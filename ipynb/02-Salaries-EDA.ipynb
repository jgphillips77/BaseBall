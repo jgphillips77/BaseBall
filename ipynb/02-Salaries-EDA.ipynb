{
 "cells": [
  {
   "cell_type": "markdown",
   "metadata": {},
   "source": [
    "![Money](https://media.giphy.com/media/qi8Yhj4pKcIec/giphy.gif \"They Don't Play for Free...\")"
   ]
  },
  {
   "cell_type": "markdown",
   "metadata": {
    "collapsed": true
   },
   "source": [
    "### EDA on Salaries.csv\n",
    "* Also from [SeanLahman.com](http://www.seanlahman.com/baseball-archive/statistics/)\n",
    "* Player salaries 1985 to 2016"
   ]
  },
  {
   "cell_type": "code",
   "execution_count": 1,
   "metadata": {},
   "outputs": [
    {
     "name": "stdout",
     "output_type": "stream",
     "text": [
      "/Users/johnphillips/Desktop/DSI-Class-Stuff/BaseBall\n"
     ]
    }
   ],
   "source": [
    "cd .."
   ]
  },
  {
   "cell_type": "code",
   "execution_count": 2,
   "metadata": {
    "collapsed": true
   },
   "outputs": [],
   "source": [
    "%matplotlib inline"
   ]
  },
  {
   "cell_type": "code",
   "execution_count": 3,
   "metadata": {
    "collapsed": true
   },
   "outputs": [],
   "source": [
    "%run __init__.py"
   ]
  },
  {
   "cell_type": "code",
   "execution_count": 4,
   "metadata": {
    "collapsed": true
   },
   "outputs": [],
   "source": [
    "## New Salaries dataset from Sean Lahman\n",
    "salaries = pd.read_csv('data/Salaries.csv', delimiter=',')"
   ]
  },
  {
   "cell_type": "code",
   "execution_count": 5,
   "metadata": {},
   "outputs": [
    {
     "data": {
      "text/html": [
       "<div>\n",
       "<style>\n",
       "    .dataframe thead tr:only-child th {\n",
       "        text-align: right;\n",
       "    }\n",
       "\n",
       "    .dataframe thead th {\n",
       "        text-align: left;\n",
       "    }\n",
       "\n",
       "    .dataframe tbody tr th {\n",
       "        vertical-align: top;\n",
       "    }\n",
       "</style>\n",
       "<table border=\"1\" class=\"dataframe\">\n",
       "  <thead>\n",
       "    <tr style=\"text-align: right;\">\n",
       "      <th></th>\n",
       "      <th>yearID</th>\n",
       "      <th>teamID</th>\n",
       "      <th>lgID</th>\n",
       "      <th>playerID</th>\n",
       "      <th>salary</th>\n",
       "    </tr>\n",
       "  </thead>\n",
       "  <tbody>\n",
       "    <tr>\n",
       "      <th>0</th>\n",
       "      <td>1985</td>\n",
       "      <td>ATL</td>\n",
       "      <td>NL</td>\n",
       "      <td>barkele01</td>\n",
       "      <td>870000</td>\n",
       "    </tr>\n",
       "    <tr>\n",
       "      <th>1</th>\n",
       "      <td>1985</td>\n",
       "      <td>ATL</td>\n",
       "      <td>NL</td>\n",
       "      <td>bedrost01</td>\n",
       "      <td>550000</td>\n",
       "    </tr>\n",
       "    <tr>\n",
       "      <th>2</th>\n",
       "      <td>1985</td>\n",
       "      <td>ATL</td>\n",
       "      <td>NL</td>\n",
       "      <td>benedbr01</td>\n",
       "      <td>545000</td>\n",
       "    </tr>\n",
       "    <tr>\n",
       "      <th>3</th>\n",
       "      <td>1985</td>\n",
       "      <td>ATL</td>\n",
       "      <td>NL</td>\n",
       "      <td>campri01</td>\n",
       "      <td>633333</td>\n",
       "    </tr>\n",
       "    <tr>\n",
       "      <th>4</th>\n",
       "      <td>1985</td>\n",
       "      <td>ATL</td>\n",
       "      <td>NL</td>\n",
       "      <td>ceronri01</td>\n",
       "      <td>625000</td>\n",
       "    </tr>\n",
       "  </tbody>\n",
       "</table>\n",
       "</div>"
      ],
      "text/plain": [
       "   yearID teamID lgID   playerID  salary\n",
       "0    1985    ATL   NL  barkele01  870000\n",
       "1    1985    ATL   NL  bedrost01  550000\n",
       "2    1985    ATL   NL  benedbr01  545000\n",
       "3    1985    ATL   NL   campri01  633333\n",
       "4    1985    ATL   NL  ceronri01  625000"
      ]
     },
     "execution_count": 5,
     "metadata": {},
     "output_type": "execute_result"
    }
   ],
   "source": [
    "salaries.head(5)"
   ]
  },
  {
   "cell_type": "code",
   "execution_count": 6,
   "metadata": {},
   "outputs": [
    {
     "name": "stdout",
     "output_type": "stream",
     "text": [
      "<class 'pandas.core.frame.DataFrame'>\n",
      "RangeIndex: 26428 entries, 0 to 26427\n",
      "Data columns (total 5 columns):\n",
      "yearID      26428 non-null int64\n",
      "teamID      26428 non-null object\n",
      "lgID        26428 non-null object\n",
      "playerID    26428 non-null object\n",
      "salary      26428 non-null int64\n",
      "dtypes: int64(2), object(3)\n",
      "memory usage: 1.0+ MB\n"
     ]
    }
   ],
   "source": [
    "salaries.info()"
   ]
  },
  {
   "cell_type": "code",
   "execution_count": 7,
   "metadata": {},
   "outputs": [
    {
     "data": {
      "text/plain": [
       "<matplotlib.axes._subplots.AxesSubplot at 0x1a09717990>"
      ]
     },
     "execution_count": 7,
     "metadata": {},
     "output_type": "execute_result"
    },
    {
     "data": {
      "image/png": "[encoded data removed]",
      "text/plain": [
       "<matplotlib.figure.Figure at 0x1059c7b90>"
      ]
     },
     "metadata": {},
     "output_type": "display_data"
    }
   ],
   "source": [
    "## Sum per season:\n",
    "salaries.groupby(\"yearID\").sum().plot(kind=\"barh\")\n",
    "\n",
    "## Salaries have increased tremendously since 1985 ..."
   ]
  },
  {
   "cell_type": "code",
   "execution_count": 8,
   "metadata": {},
   "outputs": [
    {
     "data": {
      "text/plain": [
       "<matplotlib.axes._subplots.AxesSubplot at 0x1a09e3d110>"
      ]
     },
     "execution_count": 8,
     "metadata": {},
     "output_type": "execute_result"
    },
    {
     "data": {
      "image/png": "[encoded data removed]",
      "text/plain": [
       "<matplotlib.figure.Figure at 0x1a09e522d0>"
      ]
     },
     "metadata": {},
     "output_type": "display_data"
    }
   ],
   "source": [
    "## Sum per season:\n",
    "salaries.groupby(\"yearID\").sum().plot()"
   ]
  },
  {
   "cell_type": "markdown",
   "metadata": {},
   "source": [
    "### Salaries have increased tremendously since 1985 ..."
   ]
  },
  {
   "cell_type": "code",
   "execution_count": 9,
   "metadata": {},
   "outputs": [
    {
     "data": {
      "image/png": "[encoded data removed]",
      "text/plain": [
       "<matplotlib.figure.Figure at 0x1a12476bd0>"
      ]
     },
     "metadata": {},
     "output_type": "display_data"
    }
   ],
   "source": [
    "# Another Look...\n",
    "ax = sns.regplot(x=salaries['yearID'], y=salaries['salary'])"
   ]
  },
  {
   "cell_type": "code",
   "execution_count": 10,
   "metadata": {},
   "outputs": [
    {
     "data": {
      "text/plain": [
       "<matplotlib.figure.Figure at 0x1a0f0aefd0>"
      ]
     },
     "metadata": {},
     "output_type": "display_data"
    },
    {
     "data": {
      "image/png": "[encoded data removed]",
      "text/plain": [
       "<matplotlib.figure.Figure at 0x1a0f0a3890>"
      ]
     },
     "metadata": {},
     "output_type": "display_data"
    }
   ],
   "source": [
    "# Another View:\n",
    "fig = plt.figure(figsize=(14,14))\n",
    "axs = sns.jointplot(\"yearID\", \"salary\", data=salaries, kind=\"reg\", size=9)"
   ]
  },
  {
   "cell_type": "markdown",
   "metadata": {},
   "source": [
    "### Make a column for World Series Win.\n",
    " (To be used for comparison later.)"
   ]
  },
  {
   "cell_type": "code",
   "execution_count": 11,
   "metadata": {
    "collapsed": true
   },
   "outputs": [],
   "source": [
    "salaries['WS'] = 0"
   ]
  },
  {
   "cell_type": "code",
   "execution_count": 12,
   "metadata": {},
   "outputs": [
    {
     "data": {
      "text/html": [
       "<div>\n",
       "<style>\n",
       "    .dataframe thead tr:only-child th {\n",
       "        text-align: right;\n",
       "    }\n",
       "\n",
       "    .dataframe thead th {\n",
       "        text-align: left;\n",
       "    }\n",
       "\n",
       "    .dataframe tbody tr th {\n",
       "        vertical-align: top;\n",
       "    }\n",
       "</style>\n",
       "<table border=\"1\" class=\"dataframe\">\n",
       "  <thead>\n",
       "    <tr style=\"text-align: right;\">\n",
       "      <th></th>\n",
       "      <th>yearID</th>\n",
       "      <th>teamID</th>\n",
       "      <th>lgID</th>\n",
       "      <th>playerID</th>\n",
       "      <th>salary</th>\n",
       "      <th>WS</th>\n",
       "    </tr>\n",
       "  </thead>\n",
       "  <tbody>\n",
       "    <tr>\n",
       "      <th>0</th>\n",
       "      <td>1985</td>\n",
       "      <td>ATL</td>\n",
       "      <td>NL</td>\n",
       "      <td>barkele01</td>\n",
       "      <td>870000</td>\n",
       "      <td>0</td>\n",
       "    </tr>\n",
       "    <tr>\n",
       "      <th>1</th>\n",
       "      <td>1985</td>\n",
       "      <td>ATL</td>\n",
       "      <td>NL</td>\n",
       "      <td>bedrost01</td>\n",
       "      <td>550000</td>\n",
       "      <td>0</td>\n",
       "    </tr>\n",
       "    <tr>\n",
       "      <th>2</th>\n",
       "      <td>1985</td>\n",
       "      <td>ATL</td>\n",
       "      <td>NL</td>\n",
       "      <td>benedbr01</td>\n",
       "      <td>545000</td>\n",
       "      <td>0</td>\n",
       "    </tr>\n",
       "    <tr>\n",
       "      <th>3</th>\n",
       "      <td>1985</td>\n",
       "      <td>ATL</td>\n",
       "      <td>NL</td>\n",
       "      <td>campri01</td>\n",
       "      <td>633333</td>\n",
       "      <td>0</td>\n",
       "    </tr>\n",
       "    <tr>\n",
       "      <th>4</th>\n",
       "      <td>1985</td>\n",
       "      <td>ATL</td>\n",
       "      <td>NL</td>\n",
       "      <td>ceronri01</td>\n",
       "      <td>625000</td>\n",
       "      <td>0</td>\n",
       "    </tr>\n",
       "  </tbody>\n",
       "</table>\n",
       "</div>"
      ],
      "text/plain": [
       "   yearID teamID lgID   playerID  salary  WS\n",
       "0    1985    ATL   NL  barkele01  870000   0\n",
       "1    1985    ATL   NL  bedrost01  550000   0\n",
       "2    1985    ATL   NL  benedbr01  545000   0\n",
       "3    1985    ATL   NL   campri01  633333   0\n",
       "4    1985    ATL   NL  ceronri01  625000   0"
      ]
     },
     "execution_count": 12,
     "metadata": {},
     "output_type": "execute_result"
    }
   ],
   "source": [
    "salaries.head(5)"
   ]
  },
  {
   "cell_type": "markdown",
   "metadata": {},
   "source": [
    "# Now need to make WS = 1 for the teams that Won WS each year!"
   ]
  },
  {
   "cell_type": "code",
   "execution_count": 13,
   "metadata": {},
   "outputs": [
    {
     "data": {
      "text/plain": [
       "array(['ATL', 'BAL', 'BOS', 'CAL', 'CHA', 'CHN', 'CIN', 'CLE', 'DET',\n",
       "       'HOU', 'KCA', 'LAN', 'MIN', 'ML4', 'MON', 'NYA', 'NYN', 'OAK',\n",
       "       'PHI', 'PIT', 'SDN', 'SEA', 'SFN', 'SLN', 'TEX', 'TOR', 'COL',\n",
       "       'FLO', 'ANA', 'ARI', 'MIL', 'TBA', 'LAA', 'WAS', 'MIA', 'CHC',\n",
       "       'CHW', 'KCR', 'LAD', 'NYM', 'NYY', 'SDP', 'SFG', 'STL', 'TBR', 'WSN'], dtype=object)"
      ]
     },
     "execution_count": 13,
     "metadata": {},
     "output_type": "execute_result"
    }
   ],
   "source": [
    "salaries['teamID'].unique()"
   ]
  },
  {
   "cell_type": "code",
   "execution_count": 14,
   "metadata": {},
   "outputs": [
    {
     "data": {
      "text/plain": [
       "array([1985, 1986, 1987, 1988, 1989, 1990, 1991, 1992, 1993, 1994, 1995,\n",
       "       1996, 1997, 1998, 1999, 2000, 2001, 2002, 2003, 2004, 2005, 2006,\n",
       "       2007, 2008, 2009, 2010, 2011, 2012, 2013, 2014, 2015, 2016])"
      ]
     },
     "execution_count": 14,
     "metadata": {},
     "output_type": "execute_result"
    }
   ],
   "source": [
    "salaries['yearID'].unique()"
   ]
  },
  {
   "cell_type": "markdown",
   "metadata": {},
   "source": [
    "List of Year: Winning Teams.\n",
    "1985: KCR\n",
    "1986: NYN\n",
    "1987: MIN\n",
    "1988: LAD\n",
    "1989: OAK\n",
    "1990: CIN\n",
    "1991: MIN\n",
    "1992: TOR\n",
    "1993: TOR\n",
    "1995: ATL\n",
    "1996: NYA\n",
    "1997: FLO\n",
    "1998: NYA\n",
    "1999: NYA\n",
    "2000: NYA\n",
    "2001: ARI\n",
    "2002: LAA\n",
    "2003: FLO\n",
    "2004: BOS\n",
    "2005: CHW\n",
    "2006: STL\n",
    "2007: BOS\n",
    "2008: PHI\n",
    "2009: NYA\n",
    "2010: SFG\n",
    "2011: STL\n",
    "2012: SFG\n",
    "2013: BOS\n",
    "2014: SFG\n",
    "2015: KCR\n",
    "2016: CHC"
   ]
  },
  {
   "cell_type": "code",
   "execution_count": 15,
   "metadata": {},
   "outputs": [
    {
     "data": {
      "text/html": [
       "<div>\n",
       "<style>\n",
       "    .dataframe thead tr:only-child th {\n",
       "        text-align: right;\n",
       "    }\n",
       "\n",
       "    .dataframe thead th {\n",
       "        text-align: left;\n",
       "    }\n",
       "\n",
       "    .dataframe tbody tr th {\n",
       "        vertical-align: top;\n",
       "    }\n",
       "</style>\n",
       "<table border=\"1\" class=\"dataframe\">\n",
       "  <thead>\n",
       "    <tr style=\"text-align: right;\">\n",
       "      <th></th>\n",
       "      <th>yearID</th>\n",
       "      <th>teamID</th>\n",
       "      <th>lgID</th>\n",
       "      <th>playerID</th>\n",
       "      <th>salary</th>\n",
       "      <th>WS</th>\n",
       "    </tr>\n",
       "  </thead>\n",
       "  <tbody>\n",
       "    <tr>\n",
       "      <th>222</th>\n",
       "      <td>1985</td>\n",
       "      <td>KCA</td>\n",
       "      <td>AL</td>\n",
       "      <td>balbost01</td>\n",
       "      <td>205000</td>\n",
       "      <td>0</td>\n",
       "    </tr>\n",
       "    <tr>\n",
       "      <th>223</th>\n",
       "      <td>1985</td>\n",
       "      <td>KCA</td>\n",
       "      <td>AL</td>\n",
       "      <td>beckwjo01</td>\n",
       "      <td>358000</td>\n",
       "      <td>0</td>\n",
       "    </tr>\n",
       "    <tr>\n",
       "      <th>224</th>\n",
       "      <td>1985</td>\n",
       "      <td>KCA</td>\n",
       "      <td>AL</td>\n",
       "      <td>blackbu02</td>\n",
       "      <td>465000</td>\n",
       "      <td>0</td>\n",
       "    </tr>\n",
       "    <tr>\n",
       "      <th>225</th>\n",
       "      <td>1985</td>\n",
       "      <td>KCA</td>\n",
       "      <td>AL</td>\n",
       "      <td>brettge01</td>\n",
       "      <td>1000000</td>\n",
       "      <td>0</td>\n",
       "    </tr>\n",
       "    <tr>\n",
       "      <th>226</th>\n",
       "      <td>1985</td>\n",
       "      <td>KCA</td>\n",
       "      <td>AL</td>\n",
       "      <td>conceon01</td>\n",
       "      <td>250000</td>\n",
       "      <td>0</td>\n",
       "    </tr>\n",
       "    <tr>\n",
       "      <th>227</th>\n",
       "      <td>1985</td>\n",
       "      <td>KCA</td>\n",
       "      <td>AL</td>\n",
       "      <td>gubicma01</td>\n",
       "      <td>115000</td>\n",
       "      <td>0</td>\n",
       "    </tr>\n",
       "    <tr>\n",
       "      <th>228</th>\n",
       "      <td>1985</td>\n",
       "      <td>KCA</td>\n",
       "      <td>AL</td>\n",
       "      <td>jacksda02</td>\n",
       "      <td>95000</td>\n",
       "      <td>0</td>\n",
       "    </tr>\n",
       "    <tr>\n",
       "      <th>229</th>\n",
       "      <td>1985</td>\n",
       "      <td>KCA</td>\n",
       "      <td>AL</td>\n",
       "      <td>jonesly01</td>\n",
       "      <td>202500</td>\n",
       "      <td>0</td>\n",
       "    </tr>\n",
       "    <tr>\n",
       "      <th>230</th>\n",
       "      <td>1985</td>\n",
       "      <td>KCA</td>\n",
       "      <td>AL</td>\n",
       "      <td>jonesmi02</td>\n",
       "      <td>100000</td>\n",
       "      <td>0</td>\n",
       "    </tr>\n",
       "    <tr>\n",
       "      <th>231</th>\n",
       "      <td>1985</td>\n",
       "      <td>KCA</td>\n",
       "      <td>AL</td>\n",
       "      <td>lampde01</td>\n",
       "      <td>535000</td>\n",
       "      <td>0</td>\n",
       "    </tr>\n",
       "    <tr>\n",
       "      <th>232</th>\n",
       "      <td>1985</td>\n",
       "      <td>KCA</td>\n",
       "      <td>AL</td>\n",
       "      <td>leibrch01</td>\n",
       "      <td>225000</td>\n",
       "      <td>0</td>\n",
       "    </tr>\n",
       "    <tr>\n",
       "      <th>233</th>\n",
       "      <td>1985</td>\n",
       "      <td>KCA</td>\n",
       "      <td>AL</td>\n",
       "      <td>leonade01</td>\n",
       "      <td>871429</td>\n",
       "      <td>0</td>\n",
       "    </tr>\n",
       "    <tr>\n",
       "      <th>234</th>\n",
       "      <td>1985</td>\n",
       "      <td>KCA</td>\n",
       "      <td>AL</td>\n",
       "      <td>mcraeha01</td>\n",
       "      <td>800000</td>\n",
       "      <td>0</td>\n",
       "    </tr>\n",
       "    <tr>\n",
       "      <th>235</th>\n",
       "      <td>1985</td>\n",
       "      <td>KCA</td>\n",
       "      <td>AL</td>\n",
       "      <td>motleda01</td>\n",
       "      <td>155500</td>\n",
       "      <td>0</td>\n",
       "    </tr>\n",
       "    <tr>\n",
       "      <th>236</th>\n",
       "      <td>1985</td>\n",
       "      <td>KCA</td>\n",
       "      <td>AL</td>\n",
       "      <td>ortajo01</td>\n",
       "      <td>450000</td>\n",
       "      <td>0</td>\n",
       "    </tr>\n",
       "    <tr>\n",
       "      <th>237</th>\n",
       "      <td>1985</td>\n",
       "      <td>KCA</td>\n",
       "      <td>AL</td>\n",
       "      <td>pryorgr01</td>\n",
       "      <td>316667</td>\n",
       "      <td>0</td>\n",
       "    </tr>\n",
       "    <tr>\n",
       "      <th>238</th>\n",
       "      <td>1985</td>\n",
       "      <td>KCA</td>\n",
       "      <td>AL</td>\n",
       "      <td>quiseda01</td>\n",
       "      <td>975000</td>\n",
       "      <td>0</td>\n",
       "    </tr>\n",
       "    <tr>\n",
       "      <th>239</th>\n",
       "      <td>1985</td>\n",
       "      <td>KCA</td>\n",
       "      <td>AL</td>\n",
       "      <td>saberbr01</td>\n",
       "      <td>150000</td>\n",
       "      <td>0</td>\n",
       "    </tr>\n",
       "    <tr>\n",
       "      <th>240</th>\n",
       "      <td>1985</td>\n",
       "      <td>KCA</td>\n",
       "      <td>AL</td>\n",
       "      <td>sheripa01</td>\n",
       "      <td>175000</td>\n",
       "      <td>0</td>\n",
       "    </tr>\n",
       "    <tr>\n",
       "      <th>241</th>\n",
       "      <td>1985</td>\n",
       "      <td>KCA</td>\n",
       "      <td>AL</td>\n",
       "      <td>sundbji01</td>\n",
       "      <td>608333</td>\n",
       "      <td>0</td>\n",
       "    </tr>\n",
       "    <tr>\n",
       "      <th>242</th>\n",
       "      <td>1985</td>\n",
       "      <td>KCA</td>\n",
       "      <td>AL</td>\n",
       "      <td>wathajo01</td>\n",
       "      <td>425000</td>\n",
       "      <td>0</td>\n",
       "    </tr>\n",
       "    <tr>\n",
       "      <th>243</th>\n",
       "      <td>1985</td>\n",
       "      <td>KCA</td>\n",
       "      <td>AL</td>\n",
       "      <td>wilsowi02</td>\n",
       "      <td>843750</td>\n",
       "      <td>0</td>\n",
       "    </tr>\n",
       "  </tbody>\n",
       "</table>\n",
       "</div>"
      ],
      "text/plain": [
       "     yearID teamID lgID   playerID   salary  WS\n",
       "222    1985    KCA   AL  balbost01   205000   0\n",
       "223    1985    KCA   AL  beckwjo01   358000   0\n",
       "224    1985    KCA   AL  blackbu02   465000   0\n",
       "225    1985    KCA   AL  brettge01  1000000   0\n",
       "226    1985    KCA   AL  conceon01   250000   0\n",
       "227    1985    KCA   AL  gubicma01   115000   0\n",
       "228    1985    KCA   AL  jacksda02    95000   0\n",
       "229    1985    KCA   AL  jonesly01   202500   0\n",
       "230    1985    KCA   AL  jonesmi02   100000   0\n",
       "231    1985    KCA   AL   lampde01   535000   0\n",
       "232    1985    KCA   AL  leibrch01   225000   0\n",
       "233    1985    KCA   AL  leonade01   871429   0\n",
       "234    1985    KCA   AL  mcraeha01   800000   0\n",
       "235    1985    KCA   AL  motleda01   155500   0\n",
       "236    1985    KCA   AL   ortajo01   450000   0\n",
       "237    1985    KCA   AL  pryorgr01   316667   0\n",
       "238    1985    KCA   AL  quiseda01   975000   0\n",
       "239    1985    KCA   AL  saberbr01   150000   0\n",
       "240    1985    KCA   AL  sheripa01   175000   0\n",
       "241    1985    KCA   AL  sundbji01   608333   0\n",
       "242    1985    KCA   AL  wathajo01   425000   0\n",
       "243    1985    KCA   AL  wilsowi02   843750   0"
      ]
     },
     "execution_count": 15,
     "metadata": {},
     "output_type": "execute_result"
    }
   ],
   "source": [
    "# Step 1: Find the Row Index for each Winning Team each Year...\n",
    "salaries[(salaries['teamID'] == 'KCA') & (salaries['yearID'] == 1985)]"
   ]
  },
  {
   "cell_type": "code",
   "execution_count": 16,
   "metadata": {
    "collapsed": true
   },
   "outputs": [],
   "source": [
    "# Step 2: Make WS = 1 for those Rows...\n",
    "salaries.loc[222:243, 'WS'] = 1 "
   ]
  },
  {
   "cell_type": "code",
   "execution_count": 17,
   "metadata": {
    "collapsed": true
   },
   "outputs": [],
   "source": [
    "# Used to check to make sure steps work...\n",
    "#salaries.loc[222:243]"
   ]
  },
  {
   "cell_type": "code",
   "execution_count": 18,
   "metadata": {
    "collapsed": true
   },
   "outputs": [],
   "source": [
    "salaries[(salaries['teamID'] == 'NYN') & (salaries['yearID'] == 1986)]\n",
    "salaries.loc[1010:1037, 'WS'] = 1 "
   ]
  },
  {
   "cell_type": "code",
   "execution_count": 19,
   "metadata": {
    "collapsed": true
   },
   "outputs": [],
   "source": [
    "salaries[(salaries['teamID'] == 'MIN') & (salaries['yearID'] == 1987)]\n",
    "salaries.loc[1602:1610, 'WS'] = 1 "
   ]
  },
  {
   "cell_type": "code",
   "execution_count": 20,
   "metadata": {
    "collapsed": true
   },
   "outputs": [],
   "source": [
    "salaries[(salaries['teamID'] == 'LAN') & (salaries['yearID'] == 1988)]\n",
    "salaries.loc[2194:2223, 'WS'] = 1 "
   ]
  },
  {
   "cell_type": "code",
   "execution_count": 21,
   "metadata": {
    "collapsed": true
   },
   "outputs": [],
   "source": [
    "salaries[(salaries['teamID'] == 'OAK') & (salaries['yearID'] == 1989)]\n",
    "salaries.loc[3044:3068, 'WS'] = 1 "
   ]
  },
  {
   "cell_type": "code",
   "execution_count": 22,
   "metadata": {
    "collapsed": true
   },
   "outputs": [],
   "source": [
    "salaries[(salaries['teamID'] == 'CIN') & (salaries['yearID'] == 1990)]\n",
    "salaries.loc[3487:3520, 'WS'] = 1 "
   ]
  },
  {
   "cell_type": "code",
   "execution_count": 23,
   "metadata": {
    "collapsed": true
   },
   "outputs": [],
   "source": [
    "salaries[(salaries['teamID'] == 'MIN') & (salaries['yearID'] == 1991)]\n",
    "salaries.loc[4483:4506, 'WS'] = 1 "
   ]
  },
  {
   "cell_type": "code",
   "execution_count": 24,
   "metadata": {
    "collapsed": true
   },
   "outputs": [],
   "source": [
    "salaries[(salaries['teamID'] == 'TOR') & (salaries['yearID'] == 1992)]\n",
    "salaries.loc[5574:5609, 'WS'] = 1 "
   ]
  },
  {
   "cell_type": "code",
   "execution_count": 25,
   "metadata": {
    "collapsed": true
   },
   "outputs": [],
   "source": [
    "salaries[(salaries['teamID'] == 'TOR') & (salaries['yearID'] == 1993)]\n",
    "salaries.loc[6500:6532, 'WS'] = 1 "
   ]
  },
  {
   "cell_type": "code",
   "execution_count": 26,
   "metadata": {
    "collapsed": true
   },
   "outputs": [],
   "source": [
    "salaries[(salaries['teamID'] == 'ATL') & (salaries['yearID'] == 1995)]\n",
    "salaries.loc[7417:7445, 'WS'] = 1 "
   ]
  },
  {
   "cell_type": "code",
   "execution_count": 27,
   "metadata": {
    "collapsed": true
   },
   "outputs": [],
   "source": [
    "salaries[(salaries['teamID'] == 'NYA') & (salaries['yearID'] == 1996)]\n",
    "salaries.loc[8954:8987, 'WS'] = 1 "
   ]
  },
  {
   "cell_type": "code",
   "execution_count": 28,
   "metadata": {
    "collapsed": true
   },
   "outputs": [],
   "source": [
    "salaries[(salaries['teamID'] == 'FLO') & (salaries['yearID'] == 1997)]\n",
    "salaries.loc[9657:9687, 'WS'] = 1 "
   ]
  },
  {
   "cell_type": "code",
   "execution_count": 29,
   "metadata": {
    "collapsed": true
   },
   "outputs": [],
   "source": [
    "salaries[(salaries['teamID'] == 'NYA') & (salaries['yearID'] == 1998)]\n",
    "salaries.loc[10861:10892, 'WS'] = 1 "
   ]
  },
  {
   "cell_type": "code",
   "execution_count": 30,
   "metadata": {
    "collapsed": true
   },
   "outputs": [],
   "source": [
    "salaries[(salaries['teamID'] == 'NYA') & (salaries['yearID'] == 1999)]\n",
    "salaries.loc[11867:11895, 'WS'] = 1 "
   ]
  },
  {
   "cell_type": "code",
   "execution_count": 31,
   "metadata": {
    "collapsed": true
   },
   "outputs": [],
   "source": [
    "salaries[(salaries['teamID'] == 'NYA') & (salaries['yearID'] == 2000)]\n",
    "salaries.loc[12773:12800, 'WS'] = 1 "
   ]
  },
  {
   "cell_type": "code",
   "execution_count": 32,
   "metadata": {
    "collapsed": true
   },
   "outputs": [],
   "source": [
    "salaries[(salaries['teamID'] == 'ARI') & (salaries['yearID'] == 2001)]\n",
    "salaries.loc[13129:13156, 'WS'] = 1 "
   ]
  },
  {
   "cell_type": "code",
   "execution_count": 33,
   "metadata": {
    "collapsed": true
   },
   "outputs": [],
   "source": [
    "salaries[(salaries['teamID'] == 'ANA') & (salaries['yearID'] == 2002)]\n",
    "salaries.loc[13959:13986, 'WS'] = 1 "
   ]
  },
  {
   "cell_type": "code",
   "execution_count": 34,
   "metadata": {
    "collapsed": true
   },
   "outputs": [],
   "source": [
    "salaries[(salaries['teamID'] == 'FLO') & (salaries['yearID'] == 2003)]\n",
    "salaries.loc[15109:15138, 'WS'] = 1 "
   ]
  },
  {
   "cell_type": "code",
   "execution_count": 35,
   "metadata": {
    "collapsed": true
   },
   "outputs": [],
   "source": [
    "salaries[(salaries['teamID'] == 'BOS') & (salaries['yearID'] == 2004)]\n",
    "salaries.loc[15744:15773, 'WS'] = 1 "
   ]
  },
  {
   "cell_type": "code",
   "execution_count": 36,
   "metadata": {
    "collapsed": true
   },
   "outputs": [],
   "source": [
    "salaries[(salaries['teamID'] == 'CHA') & (salaries['yearID'] == 2005)]\n",
    "salaries.loc[16571:16597, 'WS'] = 1 "
   ]
  },
  {
   "cell_type": "code",
   "execution_count": 37,
   "metadata": {
    "collapsed": true
   },
   "outputs": [],
   "source": [
    "salaries[(salaries['teamID'] == 'SLN') & (salaries['yearID'] == 2006)]\n",
    "salaries.loc[17971:17997, 'WS'] = 1 "
   ]
  },
  {
   "cell_type": "code",
   "execution_count": 38,
   "metadata": {
    "collapsed": true
   },
   "outputs": [],
   "source": [
    "salaries[(salaries['teamID'] == 'BOS') & (salaries['yearID'] == 2007)]\n",
    "salaries.loc[18196:18223, 'WS'] = 1 "
   ]
  },
  {
   "cell_type": "code",
   "execution_count": 39,
   "metadata": {
    "collapsed": true
   },
   "outputs": [],
   "source": [
    "salaries[(salaries['teamID'] == 'PHI') & (salaries['yearID'] == 2008)]\n",
    "salaries.loc[19523:19550, 'WS'] = 1 "
   ]
  },
  {
   "cell_type": "code",
   "execution_count": 40,
   "metadata": {
    "collapsed": true
   },
   "outputs": [],
   "source": [
    "salaries[(salaries['teamID'] == 'NYA') & (salaries['yearID'] == 2009)]\n",
    "salaries.loc[20266:20291, 'WS'] = 1 "
   ]
  },
  {
   "cell_type": "code",
   "execution_count": 41,
   "metadata": {
    "collapsed": true
   },
   "outputs": [],
   "source": [
    "salaries[(salaries['teamID'] == 'SFN') & (salaries['yearID'] == 2010)]\n",
    "salaries.loc[21285:21312, 'WS'] = 1 "
   ]
  },
  {
   "cell_type": "code",
   "execution_count": 42,
   "metadata": {
    "collapsed": true
   },
   "outputs": [],
   "source": [
    "salaries[(salaries['teamID'] == 'SLN') & (salaries['yearID'] == 2011)]\n",
    "salaries.loc[22151:22177, 'WS'] = 1 "
   ]
  },
  {
   "cell_type": "code",
   "execution_count": 43,
   "metadata": {
    "collapsed": true
   },
   "outputs": [],
   "source": [
    "salaries[(salaries['teamID'] == 'SFN') & (salaries['yearID'] == 2012)]\n",
    "salaries.loc[22972:23001, 'WS'] = 1 "
   ]
  },
  {
   "cell_type": "code",
   "execution_count": 44,
   "metadata": {
    "collapsed": true
   },
   "outputs": [],
   "source": [
    "salaries[(salaries['teamID'] == 'BOS') & (salaries['yearID'] == 2013)]\n",
    "salaries.loc[23224:23252, 'WS'] = 1 "
   ]
  },
  {
   "cell_type": "code",
   "execution_count": 45,
   "metadata": {
    "collapsed": true
   },
   "outputs": [],
   "source": [
    "salaries[(salaries['teamID'] == 'SFN') & (salaries['yearID'] == 2014)]\n",
    "salaries.loc[24598:24625, 'WS'] = 1 "
   ]
  },
  {
   "cell_type": "code",
   "execution_count": 46,
   "metadata": {
    "collapsed": true
   },
   "outputs": [],
   "source": [
    "salaries[(salaries['teamID'] == 'KCA') & (salaries['yearID'] == 2015)]\n",
    "salaries.loc[25060:25086, 'WS'] = 1 "
   ]
  },
  {
   "cell_type": "code",
   "execution_count": 47,
   "metadata": {
    "collapsed": true
   },
   "outputs": [],
   "source": [
    "salaries[(salaries['teamID'] == 'CHC') & (salaries['yearID'] == 2016)]\n",
    "salaries.loc[25688:25716, 'WS'] = 1 "
   ]
  },
  {
   "cell_type": "markdown",
   "metadata": {},
   "source": [
    "### Now some plots"
   ]
  },
  {
   "cell_type": "code",
   "execution_count": 48,
   "metadata": {},
   "outputs": [
    {
     "data": {
      "image/png": "[encoded data removed]",
      "text/plain": [
       "<matplotlib.figure.Figure at 0x1a124bae50>"
      ]
     },
     "metadata": {},
     "output_type": "display_data"
    }
   ],
   "source": [
    "ax = sns.lmplot(x='yearID', y='salary', hue='WS', data=salaries, ) "
   ]
  },
  {
   "cell_type": "markdown",
   "metadata": {},
   "source": [
    "### Here we can see that WS Winners are paid more than the rest.\n",
    "* Notice there are NO WS winners for 1994; this was the player Strike year, no World Series!"
   ]
  },
  {
   "cell_type": "code",
   "execution_count": 49,
   "metadata": {},
   "outputs": [
    {
     "data": {
      "image/png": "[encoded data removed]",
      "text/plain": [
       "<matplotlib.figure.Figure at 0x1a128b9390>"
      ]
     },
     "metadata": {},
     "output_type": "display_data"
    }
   ],
   "source": [
    "# Side by Side:\n",
    "ax112 = sns.lmplot(x='yearID', y='salary', col='WS', data=salaries)"
   ]
  },
  {
   "cell_type": "code",
   "execution_count": null,
   "metadata": {
    "collapsed": true
   },
   "outputs": [],
   "source": []
  },
  {
   "cell_type": "markdown",
   "metadata": {},
   "source": [
    "### Correlation"
   ]
  },
  {
   "cell_type": "code",
   "execution_count": 50,
   "metadata": {},
   "outputs": [
    {
     "data": {
      "text/html": [
       "<div>\n",
       "<style>\n",
       "    .dataframe thead tr:only-child th {\n",
       "        text-align: right;\n",
       "    }\n",
       "\n",
       "    .dataframe thead th {\n",
       "        text-align: left;\n",
       "    }\n",
       "\n",
       "    .dataframe tbody tr th {\n",
       "        vertical-align: top;\n",
       "    }\n",
       "</style>\n",
       "<table border=\"1\" class=\"dataframe\">\n",
       "  <thead>\n",
       "    <tr style=\"text-align: right;\">\n",
       "      <th></th>\n",
       "      <th>yearID</th>\n",
       "      <th>salary</th>\n",
       "      <th>WS</th>\n",
       "    </tr>\n",
       "  </thead>\n",
       "  <tbody>\n",
       "    <tr>\n",
       "      <th>yearID</th>\n",
       "      <td>1.000000</td>\n",
       "      <td>0.351740</td>\n",
       "      <td>0.000855</td>\n",
       "    </tr>\n",
       "    <tr>\n",
       "      <th>salary</th>\n",
       "      <td>0.351740</td>\n",
       "      <td>1.000000</td>\n",
       "      <td>0.036708</td>\n",
       "    </tr>\n",
       "    <tr>\n",
       "      <th>WS</th>\n",
       "      <td>0.000855</td>\n",
       "      <td>0.036708</td>\n",
       "      <td>1.000000</td>\n",
       "    </tr>\n",
       "  </tbody>\n",
       "</table>\n",
       "</div>"
      ],
      "text/plain": [
       "          yearID    salary        WS\n",
       "yearID  1.000000  0.351740  0.000855\n",
       "salary  0.351740  1.000000  0.036708\n",
       "WS      0.000855  0.036708  1.000000"
      ]
     },
     "execution_count": 50,
     "metadata": {},
     "output_type": "execute_result"
    }
   ],
   "source": [
    "salaries.corr()\n",
    "\n",
    "# There is no correlation."
   ]
  },
  {
   "cell_type": "markdown",
   "metadata": {
    "collapsed": true
   },
   "source": [
    "### Pickle when ready"
   ]
  },
  {
   "cell_type": "code",
   "execution_count": 51,
   "metadata": {
    "collapsed": true
   },
   "outputs": [],
   "source": [
    "\n",
    "salaries.to_pickle('data/salaries.p')"
   ]
  },
  {
   "cell_type": "code",
   "execution_count": null,
   "metadata": {
    "collapsed": true
   },
   "outputs": [],
   "source": []
  }
 ],
 "metadata": {
  "kernelspec": {
   "display_name": "Python [default]",
   "language": "python",
   "name": "python2"
  },
  "language_info": {
   "codemirror_mode": {
    "name": "ipython",
    "version": 2
   },
   "file_extension": ".py",
   "mimetype": "text/x-python",
   "name": "python",
   "nbconvert_exporter": "python",
   "pygments_lexer": "ipython2",
   "version": "2.7.14"
  }
 },
 "nbformat": 4,
 "nbformat_minor": 2
}
