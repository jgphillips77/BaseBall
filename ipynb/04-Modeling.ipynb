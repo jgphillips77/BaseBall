{
 "cells": [
  {
   "cell_type": "markdown",
   "metadata": {},
   "source": [
    "![bluesteel](https://i1.wp.com/breakingintomodeling.com/wp-content/uploads/2017/04/Zoolander-Blue-Steel-look-min.png?resize=508%2C213&ssl=1 \"modeling isn't easy...\")"
   ]
  },
  {
   "cell_type": "markdown",
   "metadata": {},
   "source": [
    "### Build a better model..."
   ]
  },
  {
   "cell_type": "code",
   "execution_count": 1,
   "metadata": {},
   "outputs": [
    {
     "name": "stdout",
     "output_type": "stream",
     "text": [
      "/Users/johnphillips/Desktop/DSI-Class-Stuff/CAPSTONE\n"
     ]
    }
   ],
   "source": [
    "cd .."
   ]
  },
  {
   "cell_type": "code",
   "execution_count": 2,
   "metadata": {
    "collapsed": true
   },
   "outputs": [],
   "source": [
    "%matplotlib inline"
   ]
  },
  {
   "cell_type": "code",
   "execution_count": 23,
   "metadata": {
    "collapsed": true
   },
   "outputs": [],
   "source": [
    "%run __init__.py"
   ]
  },
  {
   "cell_type": "code",
   "execution_count": 10,
   "metadata": {
    "collapsed": true
   },
   "outputs": [],
   "source": [
    "# Start with reading the data from the pickle\n",
    "teams = pd.read_pickle('data/teams.p')"
   ]
  },
  {
   "cell_type": "code",
   "execution_count": 11,
   "metadata": {},
   "outputs": [
    {
     "data": {
      "text/plain": [
       "Index([u'yearID', u'G', u'Ghome', u'W', u'L', u'LgWin', u'WSWin', u'R', u'AB',\n",
       "       u'H', u'2B', u'3B', u'HR', u'BB', u'SO', u'SB', u'CS', u'HBP', u'SF',\n",
       "       u'RA', u'ER', u'ERA', u'CG', u'SHO', u'SV', u'IPouts', u'HA', u'HRA',\n",
       "       u'BBA', u'SOA', u'E', u'DP', u'FP', u'attendance', u'BPF', u'PPF',\n",
       "       u'BA', u'OBP', u'SLG', u'OPS', u'WinP'],\n",
       "      dtype='object')"
      ]
     },
     "execution_count": 11,
     "metadata": {},
     "output_type": "execute_result"
    }
   ],
   "source": [
    "# Separate the Numeric Columns:\n",
    "\n",
    "teams_num = teams.select_dtypes(exclude=['object', 'category'])\n",
    "teams_num.columns"
   ]
  },
  {
   "cell_type": "markdown",
   "metadata": {
    "collapsed": true
   },
   "source": [
    "### Separate X and y "
   ]
  },
  {
   "cell_type": "code",
   "execution_count": 12,
   "metadata": {
    "collapsed": true
   },
   "outputs": [],
   "source": [
    "# Had to also drop Wins, Losses, and WinP since those are direct indicators.\n",
    "# And they are not part of a players individual stats.\n",
    "X = teams_num.drop(['WSWin', 'LgWin', 'W', 'L', 'WinP'], axis=1) \n",
    "\n",
    "# Make a y2 based upon Winning Leage Series, for possible second model.\n",
    "y = teams_num['WSWin']\n",
    "y2 = teams_num['LgWin'] "
   ]
  },
  {
   "cell_type": "code",
   "execution_count": 13,
   "metadata": {
    "collapsed": true
   },
   "outputs": [],
   "source": [
    "# Train-test split our data...\n",
    "\n",
    "# Standard split:\n",
    "X_train, X_test, y_train, y_test = train_test_split(X, y, random_state = 42, test_size=0.5)\n",
    "\n",
    "# Second split based upon LgWin target:\n",
    "X2_train, X2_test, y2_train, y2_test = train_test_split(X, y2, random_state = 42, test_size=0.5)"
   ]
  },
  {
   "cell_type": "markdown",
   "metadata": {},
   "source": [
    "### Improved Logistic Regression?"
   ]
  },
  {
   "cell_type": "code",
   "execution_count": 39,
   "metadata": {},
   "outputs": [
    {
     "name": "stdout",
     "output_type": "stream",
     "text": [
      "0.957328237525\n"
     ]
    }
   ],
   "source": [
    "from sklearn.cross_validation import cross_val_score\n",
    "\n",
    "logreg = LogisticRegression()\n",
    "lr_scores = cross_val_score(logreg, X, y, cv=10, scoring='accuracy')\n",
    "print(lr_scores.mean())"
   ]
  },
  {
   "cell_type": "markdown",
   "metadata": {},
   "source": [
    "### Better with KNN?"
   ]
  },
  {
   "cell_type": "code",
   "execution_count": 30,
   "metadata": {},
   "outputs": [
    {
     "name": "stdout",
     "output_type": "stream",
     "text": [
      "0.9583820783\n"
     ]
    }
   ],
   "source": [
    "knn = KNeighborsClassifier(n_neighbors=5)\n",
    "knn_scores = cross_val_score(knn, X, y, cv=10, scoring='accuracy')\n",
    "print(knn_scores.mean())"
   ]
  },
  {
   "cell_type": "code",
   "execution_count": 31,
   "metadata": {},
   "outputs": [
    {
     "data": {
      "text/plain": [
       "GridSearchCV(cv=10, error_score='raise',\n",
       "       estimator=KNeighborsClassifier(algorithm='auto', leaf_size=30, metric='minkowski',\n",
       "           metric_params=None, n_jobs=1, n_neighbors=5, p=2,\n",
       "           weights='uniform'),\n",
       "       fit_params=None, iid=True, n_jobs=1,\n",
       "       param_grid={'n_neighbors': [1, 2, 3, 4, 5, 6, 7, 8, 9, 10, 11, 12, 13, 14, 15, 16, 17, 18, 19, 20, 21, 22, 23, 24, 25, 26, 27, 28, 29]},\n",
       "       pre_dispatch='2*n_jobs', refit=True, return_train_score='warn',\n",
       "       scoring='accuracy', verbose=0)"
      ]
     },
     "execution_count": 31,
     "metadata": {},
     "output_type": "execute_result"
    }
   ],
   "source": [
    "# Now Grid Search it:\n",
    "\n",
    "k_range = list(range(1, 30))\n",
    "param_grid = dict(n_neighbors=k_range)\n",
    "grid = GridSearchCV(knn, param_grid, cv=10, scoring='accuracy')\n",
    "grid.fit(X, y)"
   ]
  },
  {
   "cell_type": "code",
   "execution_count": 32,
   "metadata": {},
   "outputs": [
    {
     "name": "stderr",
     "output_type": "stream",
     "text": [
      "/Users/johnphillips/anaconda2/lib/python2.7/site-packages/sklearn/model_selection/_search.py:761: DeprecationWarning: The grid_scores_ attribute was deprecated in version 0.18 in favor of the more elaborate cv_results_ attribute. The grid_scores_ attribute will not be available from 0.20\n",
      "  DeprecationWarning)\n"
     ]
    },
    {
     "data": {
      "text/plain": [
       "[mean: 0.92381, std: 0.01530, params: {'n_neighbors': 1},\n",
       " mean: 0.95732, std: 0.00244, params: {'n_neighbors': 2},\n",
       " mean: 0.95273, std: 0.00505, params: {'n_neighbors': 3},\n",
       " mean: 0.95838, std: 0.00202, params: {'n_neighbors': 4},\n",
       " mean: 0.95838, std: 0.00202, params: {'n_neighbors': 5},\n",
       " mean: 0.95873, std: 0.00151, params: {'n_neighbors': 6},\n",
       " mean: 0.95873, std: 0.00151, params: {'n_neighbors': 7},\n",
       " mean: 0.95873, std: 0.00151, params: {'n_neighbors': 8},\n",
       " mean: 0.95873, std: 0.00151, params: {'n_neighbors': 9},\n",
       " mean: 0.95873, std: 0.00151, params: {'n_neighbors': 10},\n",
       " mean: 0.95873, std: 0.00151, params: {'n_neighbors': 11},\n",
       " mean: 0.95873, std: 0.00151, params: {'n_neighbors': 12},\n",
       " mean: 0.95873, std: 0.00151, params: {'n_neighbors': 13},\n",
       " mean: 0.95873, std: 0.00151, params: {'n_neighbors': 14},\n",
       " mean: 0.95873, std: 0.00151, params: {'n_neighbors': 15},\n",
       " mean: 0.95873, std: 0.00151, params: {'n_neighbors': 16},\n",
       " mean: 0.95873, std: 0.00151, params: {'n_neighbors': 17},\n",
       " mean: 0.95873, std: 0.00151, params: {'n_neighbors': 18},\n",
       " mean: 0.95873, std: 0.00151, params: {'n_neighbors': 19},\n",
       " mean: 0.95873, std: 0.00151, params: {'n_neighbors': 20},\n",
       " mean: 0.95873, std: 0.00151, params: {'n_neighbors': 21},\n",
       " mean: 0.95873, std: 0.00151, params: {'n_neighbors': 22},\n",
       " mean: 0.95873, std: 0.00151, params: {'n_neighbors': 23},\n",
       " mean: 0.95873, std: 0.00151, params: {'n_neighbors': 24},\n",
       " mean: 0.95873, std: 0.00151, params: {'n_neighbors': 25},\n",
       " mean: 0.95873, std: 0.00151, params: {'n_neighbors': 26},\n",
       " mean: 0.95873, std: 0.00151, params: {'n_neighbors': 27},\n",
       " mean: 0.95873, std: 0.00151, params: {'n_neighbors': 28},\n",
       " mean: 0.95873, std: 0.00151, params: {'n_neighbors': 29}]"
      ]
     },
     "execution_count": 32,
     "metadata": {},
     "output_type": "execute_result"
    }
   ],
   "source": [
    "grid.grid_scores_"
   ]
  },
  {
   "cell_type": "code",
   "execution_count": 33,
   "metadata": {},
   "outputs": [
    {
     "name": "stdout",
     "output_type": "stream",
     "text": [
      "0.95873015873\n",
      "{'n_neighbors': 6}\n",
      "KNeighborsClassifier(algorithm='auto', leaf_size=30, metric='minkowski',\n",
      "           metric_params=None, n_jobs=1, n_neighbors=6, p=2,\n",
      "           weights='uniform')\n"
     ]
    }
   ],
   "source": [
    "# What is the best model?\n",
    "\n",
    "print(grid.best_score_)\n",
    "print(grid.best_params_)\n",
    "print(grid.best_estimator_)"
   ]
  },
  {
   "cell_type": "code",
   "execution_count": 34,
   "metadata": {},
   "outputs": [
    {
     "data": {
      "text/plain": [
       "0.52135835989041701"
      ]
     },
     "execution_count": 34,
     "metadata": {},
     "output_type": "execute_result"
    }
   ],
   "source": [
    "cross_val_score(grid, X, y, cv=10, scoring='roc_auc').mean()\n"
   ]
  }
 ],
 "metadata": {
  "kernelspec": {
   "display_name": "Python [default]",
   "language": "python",
   "name": "python2"
  },
  "language_info": {
   "codemirror_mode": {
    "name": "ipython",
    "version": 2
   },
   "file_extension": ".py",
   "mimetype": "text/x-python",
   "name": "python",
   "nbconvert_exporter": "python",
   "pygments_lexer": "ipython2",
   "version": "2.7.14"
  }
 },
 "nbformat": 4,
 "nbformat_minor": 2
}
