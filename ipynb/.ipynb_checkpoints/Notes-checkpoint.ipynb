{
 "cells": [
  {
   "cell_type": "code",
   "execution_count": 1,
   "metadata": {},
   "outputs": [
    {
     "name": "stdout",
     "output_type": "stream",
     "text": [
      "/Users/johnphillips/Desktop/DSI-Class-Stuff/BaseBall\n"
     ]
    }
   ],
   "source": [
    "cd .."
   ]
  },
  {
   "cell_type": "code",
   "execution_count": 2,
   "metadata": {
    "collapsed": true
   },
   "outputs": [],
   "source": [
    "%matplotlib inline"
   ]
  },
  {
   "cell_type": "code",
   "execution_count": 3,
   "metadata": {
    "collapsed": true
   },
   "outputs": [],
   "source": [
    "%run __init__.py"
   ]
  },
  {
   "cell_type": "code",
   "execution_count": 4,
   "metadata": {
    "collapsed": true
   },
   "outputs": [],
   "source": [
    "# Start with reading the data sets from the pickles\n",
    "\n",
    "teams = pd.read_pickle('data/teams.p') # Full Data\n",
    "teams_num = pd.read_pickle('data/teams_num.p') # Numeric Features\n",
    "new_reduced = pd.read_pickle('data/new_reduced.p') # Reduced from PCA\n",
    "salaries = pd.read_pickle('data/salaries.p') # Team Salaries 1985 - 2016\n",
    "rockies = pd.read_pickle('data/rockies.p') # 2017 Rockies Team Stats"
   ]
  },
  {
   "cell_type": "code",
   "execution_count": 5,
   "metadata": {},
   "outputs": [
    {
     "data": {
      "text/html": [
       "<div>\n",
       "<style scoped>\n",
       "    .dataframe tbody tr th:only-of-type {\n",
       "        vertical-align: middle;\n",
       "    }\n",
       "\n",
       "    .dataframe tbody tr th {\n",
       "        vertical-align: top;\n",
       "    }\n",
       "\n",
       "    .dataframe thead th {\n",
       "        text-align: right;\n",
       "    }\n",
       "</style>\n",
       "<table border=\"1\" class=\"dataframe\">\n",
       "  <thead>\n",
       "    <tr style=\"text-align: right;\">\n",
       "      <th></th>\n",
       "      <th>yearID</th>\n",
       "      <th>teamID</th>\n",
       "      <th>franchID</th>\n",
       "      <th>G</th>\n",
       "      <th>Ghome</th>\n",
       "      <th>W</th>\n",
       "      <th>L</th>\n",
       "      <th>LgWin</th>\n",
       "      <th>WSWin</th>\n",
       "      <th>R</th>\n",
       "      <th>...</th>\n",
       "      <th>BPF</th>\n",
       "      <th>PPF</th>\n",
       "      <th>teamIDBR</th>\n",
       "      <th>teamIDlahman45</th>\n",
       "      <th>teamIDretro</th>\n",
       "      <th>BA</th>\n",
       "      <th>OBP</th>\n",
       "      <th>SLG</th>\n",
       "      <th>OPS</th>\n",
       "      <th>WinP</th>\n",
       "    </tr>\n",
       "  </thead>\n",
       "  <tbody>\n",
       "    <tr>\n",
       "      <th>972</th>\n",
       "      <td>1936</td>\n",
       "      <td>SLA</td>\n",
       "      <td>BAL</td>\n",
       "      <td>155</td>\n",
       "      <td>77.0</td>\n",
       "      <td>57</td>\n",
       "      <td>95</td>\n",
       "      <td>0</td>\n",
       "      <td>0</td>\n",
       "      <td>804</td>\n",
       "      <td>...</td>\n",
       "      <td>102</td>\n",
       "      <td>106</td>\n",
       "      <td>SLB</td>\n",
       "      <td>SLA</td>\n",
       "      <td>SLA</td>\n",
       "      <td>0.278613</td>\n",
       "      <td>0.353557</td>\n",
       "      <td>0.402523</td>\n",
       "      <td>0.756080</td>\n",
       "      <td>0.375000</td>\n",
       "    </tr>\n",
       "    <tr>\n",
       "      <th>1936</th>\n",
       "      <td>1985</td>\n",
       "      <td>PIT</td>\n",
       "      <td>PIT</td>\n",
       "      <td>161</td>\n",
       "      <td>80.0</td>\n",
       "      <td>57</td>\n",
       "      <td>104</td>\n",
       "      <td>0</td>\n",
       "      <td>0</td>\n",
       "      <td>568</td>\n",
       "      <td>...</td>\n",
       "      <td>99</td>\n",
       "      <td>100</td>\n",
       "      <td>PIT</td>\n",
       "      <td>PIT</td>\n",
       "      <td>PIT</td>\n",
       "      <td>0.246505</td>\n",
       "      <td>0.311597</td>\n",
       "      <td>0.347130</td>\n",
       "      <td>0.658727</td>\n",
       "      <td>0.354037</td>\n",
       "    </tr>\n",
       "    <tr>\n",
       "      <th>275</th>\n",
       "      <td>1891</td>\n",
       "      <td>PHI</td>\n",
       "      <td>PHI</td>\n",
       "      <td>138</td>\n",
       "      <td>0.0</td>\n",
       "      <td>68</td>\n",
       "      <td>69</td>\n",
       "      <td>0</td>\n",
       "      <td>0</td>\n",
       "      <td>756</td>\n",
       "      <td>...</td>\n",
       "      <td>103</td>\n",
       "      <td>102</td>\n",
       "      <td>PHI</td>\n",
       "      <td>PHI</td>\n",
       "      <td>PHI</td>\n",
       "      <td>0.252384</td>\n",
       "      <td>0.318980</td>\n",
       "      <td>0.322378</td>\n",
       "      <td>0.641358</td>\n",
       "      <td>0.496350</td>\n",
       "    </tr>\n",
       "    <tr>\n",
       "      <th>927</th>\n",
       "      <td>1934</td>\n",
       "      <td>BOS</td>\n",
       "      <td>BOS</td>\n",
       "      <td>153</td>\n",
       "      <td>77.0</td>\n",
       "      <td>76</td>\n",
       "      <td>76</td>\n",
       "      <td>0</td>\n",
       "      <td>0</td>\n",
       "      <td>820</td>\n",
       "      <td>...</td>\n",
       "      <td>105</td>\n",
       "      <td>105</td>\n",
       "      <td>BOS</td>\n",
       "      <td>BOS</td>\n",
       "      <td>BOS</td>\n",
       "      <td>0.274396</td>\n",
       "      <td>0.348798</td>\n",
       "      <td>0.383031</td>\n",
       "      <td>0.731829</td>\n",
       "      <td>0.500000</td>\n",
       "    </tr>\n",
       "    <tr>\n",
       "      <th>39</th>\n",
       "      <td>1875</td>\n",
       "      <td>CH2</td>\n",
       "      <td>CNA</td>\n",
       "      <td>69</td>\n",
       "      <td>0.0</td>\n",
       "      <td>30</td>\n",
       "      <td>37</td>\n",
       "      <td>0</td>\n",
       "      <td>0</td>\n",
       "      <td>379</td>\n",
       "      <td>...</td>\n",
       "      <td>101</td>\n",
       "      <td>102</td>\n",
       "      <td>CHI</td>\n",
       "      <td>CH2</td>\n",
       "      <td>CH2</td>\n",
       "      <td>0.262227</td>\n",
       "      <td>0.268829</td>\n",
       "      <td>0.303988</td>\n",
       "      <td>0.572817</td>\n",
       "      <td>0.447761</td>\n",
       "    </tr>\n",
       "  </tbody>\n",
       "</table>\n",
       "<p>5 rows × 47 columns</p>\n",
       "</div>"
      ],
      "text/plain": [
       "      yearID teamID franchID    G  Ghome   W    L  LgWin  WSWin    R  \\\n",
       "972     1936    SLA      BAL  155   77.0  57   95      0      0  804   \n",
       "1936    1985    PIT      PIT  161   80.0  57  104      0      0  568   \n",
       "275     1891    PHI      PHI  138    0.0  68   69      0      0  756   \n",
       "927     1934    BOS      BOS  153   77.0  76   76      0      0  820   \n",
       "39      1875    CH2      CNA   69    0.0  30   37      0      0  379   \n",
       "\n",
       "        ...     BPF  PPF  teamIDBR  teamIDlahman45  teamIDretro        BA  \\\n",
       "972     ...     102  106       SLB             SLA          SLA  0.278613   \n",
       "1936    ...      99  100       PIT             PIT          PIT  0.246505   \n",
       "275     ...     103  102       PHI             PHI          PHI  0.252384   \n",
       "927     ...     105  105       BOS             BOS          BOS  0.274396   \n",
       "39      ...     101  102       CHI             CH2          CH2  0.262227   \n",
       "\n",
       "           OBP       SLG       OPS      WinP  \n",
       "972   0.353557  0.402523  0.756080  0.375000  \n",
       "1936  0.311597  0.347130  0.658727  0.354037  \n",
       "275   0.318980  0.322378  0.641358  0.496350  \n",
       "927   0.348798  0.383031  0.731829  0.500000  \n",
       "39    0.268829  0.303988  0.572817  0.447761  \n",
       "\n",
       "[5 rows x 47 columns]"
      ]
     },
     "execution_count": 5,
     "metadata": {},
     "output_type": "execute_result"
    }
   ],
   "source": [
    "teams.sample(5)"
   ]
  },
  {
   "cell_type": "markdown",
   "metadata": {
    "collapsed": true
   },
   "source": [
    "### Hypothesis Testing Part 1:"
   ]
  },
  {
   "cell_type": "markdown",
   "metadata": {},
   "source": [
    "**Hypotheses:**\n",
    "\n",
    "$H_0$: The mean difference in OPS among winners vs. non-winners is zero.\n",
    "\n",
    "$H_1$: There is a significant difference in the OPS of the two groups."
   ]
  },
  {
   "cell_type": "code",
   "execution_count": 6,
   "metadata": {
    "collapsed": true
   },
   "outputs": [],
   "source": [
    "from scipy import stats"
   ]
  },
  {
   "cell_type": "code",
   "execution_count": 7,
   "metadata": {},
   "outputs": [
    {
     "data": {
      "text/html": [
       "<div>\n",
       "<style scoped>\n",
       "    .dataframe tbody tr th:only-of-type {\n",
       "        vertical-align: middle;\n",
       "    }\n",
       "\n",
       "    .dataframe tbody tr th {\n",
       "        vertical-align: top;\n",
       "    }\n",
       "\n",
       "    .dataframe thead th {\n",
       "        text-align: right;\n",
       "    }\n",
       "</style>\n",
       "<table border=\"1\" class=\"dataframe\">\n",
       "  <thead>\n",
       "    <tr style=\"text-align: right;\">\n",
       "      <th></th>\n",
       "      <th>yearID</th>\n",
       "      <th>G</th>\n",
       "      <th>Ghome</th>\n",
       "      <th>W</th>\n",
       "      <th>L</th>\n",
       "      <th>LgWin</th>\n",
       "      <th>WSWin</th>\n",
       "      <th>R</th>\n",
       "      <th>AB</th>\n",
       "      <th>H</th>\n",
       "      <th>...</th>\n",
       "      <th>DP</th>\n",
       "      <th>FP</th>\n",
       "      <th>attendance</th>\n",
       "      <th>BPF</th>\n",
       "      <th>PPF</th>\n",
       "      <th>BA</th>\n",
       "      <th>OBP</th>\n",
       "      <th>SLG</th>\n",
       "      <th>OPS</th>\n",
       "      <th>WinP</th>\n",
       "    </tr>\n",
       "  </thead>\n",
       "  <tbody>\n",
       "    <tr>\n",
       "      <th>count</th>\n",
       "      <td>2835.000000</td>\n",
       "      <td>2835.000000</td>\n",
       "      <td>2835.000000</td>\n",
       "      <td>2835.000000</td>\n",
       "      <td>2835.000000</td>\n",
       "      <td>2835.000000</td>\n",
       "      <td>2835.000000</td>\n",
       "      <td>2835.000000</td>\n",
       "      <td>2835.000000</td>\n",
       "      <td>2835.000000</td>\n",
       "      <td>...</td>\n",
       "      <td>2835.000000</td>\n",
       "      <td>2835.000000</td>\n",
       "      <td>2.835000e+03</td>\n",
       "      <td>2835.000000</td>\n",
       "      <td>2835.000000</td>\n",
       "      <td>2835.000000</td>\n",
       "      <td>2835.000000</td>\n",
       "      <td>2835.000000</td>\n",
       "      <td>2835.000000</td>\n",
       "      <td>2835.000000</td>\n",
       "    </tr>\n",
       "    <tr>\n",
       "      <th>mean</th>\n",
       "      <td>1955.681834</td>\n",
       "      <td>150.469841</td>\n",
       "      <td>67.448677</td>\n",
       "      <td>74.814109</td>\n",
       "      <td>74.814109</td>\n",
       "      <td>0.096649</td>\n",
       "      <td>0.041270</td>\n",
       "      <td>682.399295</td>\n",
       "      <td>5146.473369</td>\n",
       "      <td>1346.939330</td>\n",
       "      <td>...</td>\n",
       "      <td>124.556614</td>\n",
       "      <td>0.965447</td>\n",
       "      <td>1.223610e+06</td>\n",
       "      <td>100.197531</td>\n",
       "      <td>100.223280</td>\n",
       "      <td>0.261383</td>\n",
       "      <td>0.322821</td>\n",
       "      <td>0.380983</td>\n",
       "      <td>0.703803</td>\n",
       "      <td>0.498295</td>\n",
       "    </tr>\n",
       "    <tr>\n",
       "      <th>std</th>\n",
       "      <td>41.767356</td>\n",
       "      <td>23.134065</td>\n",
       "      <td>27.644362</td>\n",
       "      <td>17.591208</td>\n",
       "      <td>17.331455</td>\n",
       "      <td>0.295531</td>\n",
       "      <td>0.198949</td>\n",
       "      <td>135.224393</td>\n",
       "      <td>747.595825</td>\n",
       "      <td>218.926978</td>\n",
       "      <td>...</td>\n",
       "      <td>52.077753</td>\n",
       "      <td>0.029437</td>\n",
       "      <td>9.894033e+05</td>\n",
       "      <td>4.903349</td>\n",
       "      <td>4.834146</td>\n",
       "      <td>0.017843</td>\n",
       "      <td>0.023054</td>\n",
       "      <td>0.041858</td>\n",
       "      <td>0.061473</td>\n",
       "      <td>0.095128</td>\n",
       "    </tr>\n",
       "    <tr>\n",
       "      <th>min</th>\n",
       "      <td>1871.000000</td>\n",
       "      <td>6.000000</td>\n",
       "      <td>0.000000</td>\n",
       "      <td>0.000000</td>\n",
       "      <td>4.000000</td>\n",
       "      <td>0.000000</td>\n",
       "      <td>0.000000</td>\n",
       "      <td>24.000000</td>\n",
       "      <td>211.000000</td>\n",
       "      <td>33.000000</td>\n",
       "      <td>...</td>\n",
       "      <td>0.000000</td>\n",
       "      <td>0.765000</td>\n",
       "      <td>0.000000e+00</td>\n",
       "      <td>60.000000</td>\n",
       "      <td>60.000000</td>\n",
       "      <td>0.156398</td>\n",
       "      <td>0.156398</td>\n",
       "      <td>0.180095</td>\n",
       "      <td>0.336493</td>\n",
       "      <td>0.000000</td>\n",
       "    </tr>\n",
       "    <tr>\n",
       "      <th>25%</th>\n",
       "      <td>1920.000000</td>\n",
       "      <td>154.000000</td>\n",
       "      <td>76.000000</td>\n",
       "      <td>66.000000</td>\n",
       "      <td>65.000000</td>\n",
       "      <td>0.000000</td>\n",
       "      <td>0.000000</td>\n",
       "      <td>614.000000</td>\n",
       "      <td>5132.000000</td>\n",
       "      <td>1300.000000</td>\n",
       "      <td>...</td>\n",
       "      <td>113.000000</td>\n",
       "      <td>0.965000</td>\n",
       "      <td>3.792300e+05</td>\n",
       "      <td>97.000000</td>\n",
       "      <td>97.000000</td>\n",
       "      <td>0.250091</td>\n",
       "      <td>0.310930</td>\n",
       "      <td>0.353738</td>\n",
       "      <td>0.668756</td>\n",
       "      <td>0.440969</td>\n",
       "    </tr>\n",
       "    <tr>\n",
       "      <th>50%</th>\n",
       "      <td>1964.000000</td>\n",
       "      <td>157.000000</td>\n",
       "      <td>79.000000</td>\n",
       "      <td>77.000000</td>\n",
       "      <td>76.000000</td>\n",
       "      <td>0.000000</td>\n",
       "      <td>0.000000</td>\n",
       "      <td>690.000000</td>\n",
       "      <td>5395.000000</td>\n",
       "      <td>1393.000000</td>\n",
       "      <td>...</td>\n",
       "      <td>141.000000</td>\n",
       "      <td>0.976000</td>\n",
       "      <td>1.012164e+06</td>\n",
       "      <td>100.000000</td>\n",
       "      <td>100.000000</td>\n",
       "      <td>0.260687</td>\n",
       "      <td>0.324404</td>\n",
       "      <td>0.383950</td>\n",
       "      <td>0.709628</td>\n",
       "      <td>0.506024</td>\n",
       "    </tr>\n",
       "    <tr>\n",
       "      <th>75%</th>\n",
       "      <td>1993.000000</td>\n",
       "      <td>162.000000</td>\n",
       "      <td>81.000000</td>\n",
       "      <td>87.000000</td>\n",
       "      <td>87.000000</td>\n",
       "      <td>0.000000</td>\n",
       "      <td>0.000000</td>\n",
       "      <td>763.000000</td>\n",
       "      <td>5518.000000</td>\n",
       "      <td>1467.000000</td>\n",
       "      <td>...</td>\n",
       "      <td>157.000000</td>\n",
       "      <td>0.981000</td>\n",
       "      <td>1.924918e+06</td>\n",
       "      <td>103.000000</td>\n",
       "      <td>103.000000</td>\n",
       "      <td>0.271478</td>\n",
       "      <td>0.336582</td>\n",
       "      <td>0.409033</td>\n",
       "      <td>0.743465</td>\n",
       "      <td>0.561728</td>\n",
       "    </tr>\n",
       "    <tr>\n",
       "      <th>max</th>\n",
       "      <td>2016.000000</td>\n",
       "      <td>165.000000</td>\n",
       "      <td>84.000000</td>\n",
       "      <td>116.000000</td>\n",
       "      <td>134.000000</td>\n",
       "      <td>1.000000</td>\n",
       "      <td>1.000000</td>\n",
       "      <td>1220.000000</td>\n",
       "      <td>5781.000000</td>\n",
       "      <td>1783.000000</td>\n",
       "      <td>...</td>\n",
       "      <td>217.000000</td>\n",
       "      <td>0.991000</td>\n",
       "      <td>4.483350e+06</td>\n",
       "      <td>129.000000</td>\n",
       "      <td>141.000000</td>\n",
       "      <td>0.348701</td>\n",
       "      <td>0.407835</td>\n",
       "      <td>0.490900</td>\n",
       "      <td>0.889770</td>\n",
       "      <td>0.898734</td>\n",
       "    </tr>\n",
       "  </tbody>\n",
       "</table>\n",
       "<p>8 rows × 41 columns</p>\n",
       "</div>"
      ],
      "text/plain": [
       "            yearID            G        Ghome            W            L  \\\n",
       "count  2835.000000  2835.000000  2835.000000  2835.000000  2835.000000   \n",
       "mean   1955.681834   150.469841    67.448677    74.814109    74.814109   \n",
       "std      41.767356    23.134065    27.644362    17.591208    17.331455   \n",
       "min    1871.000000     6.000000     0.000000     0.000000     4.000000   \n",
       "25%    1920.000000   154.000000    76.000000    66.000000    65.000000   \n",
       "50%    1964.000000   157.000000    79.000000    77.000000    76.000000   \n",
       "75%    1993.000000   162.000000    81.000000    87.000000    87.000000   \n",
       "max    2016.000000   165.000000    84.000000   116.000000   134.000000   \n",
       "\n",
       "             LgWin        WSWin            R           AB            H  \\\n",
       "count  2835.000000  2835.000000  2835.000000  2835.000000  2835.000000   \n",
       "mean      0.096649     0.041270   682.399295  5146.473369  1346.939330   \n",
       "std       0.295531     0.198949   135.224393   747.595825   218.926978   \n",
       "min       0.000000     0.000000    24.000000   211.000000    33.000000   \n",
       "25%       0.000000     0.000000   614.000000  5132.000000  1300.000000   \n",
       "50%       0.000000     0.000000   690.000000  5395.000000  1393.000000   \n",
       "75%       0.000000     0.000000   763.000000  5518.000000  1467.000000   \n",
       "max       1.000000     1.000000  1220.000000  5781.000000  1783.000000   \n",
       "\n",
       "          ...                DP           FP    attendance          BPF  \\\n",
       "count     ...       2835.000000  2835.000000  2.835000e+03  2835.000000   \n",
       "mean      ...        124.556614     0.965447  1.223610e+06   100.197531   \n",
       "std       ...         52.077753     0.029437  9.894033e+05     4.903349   \n",
       "min       ...          0.000000     0.765000  0.000000e+00    60.000000   \n",
       "25%       ...        113.000000     0.965000  3.792300e+05    97.000000   \n",
       "50%       ...        141.000000     0.976000  1.012164e+06   100.000000   \n",
       "75%       ...        157.000000     0.981000  1.924918e+06   103.000000   \n",
       "max       ...        217.000000     0.991000  4.483350e+06   129.000000   \n",
       "\n",
       "               PPF           BA          OBP          SLG          OPS  \\\n",
       "count  2835.000000  2835.000000  2835.000000  2835.000000  2835.000000   \n",
       "mean    100.223280     0.261383     0.322821     0.380983     0.703803   \n",
       "std       4.834146     0.017843     0.023054     0.041858     0.061473   \n",
       "min      60.000000     0.156398     0.156398     0.180095     0.336493   \n",
       "25%      97.000000     0.250091     0.310930     0.353738     0.668756   \n",
       "50%     100.000000     0.260687     0.324404     0.383950     0.709628   \n",
       "75%     103.000000     0.271478     0.336582     0.409033     0.743465   \n",
       "max     141.000000     0.348701     0.407835     0.490900     0.889770   \n",
       "\n",
       "              WinP  \n",
       "count  2835.000000  \n",
       "mean      0.498295  \n",
       "std       0.095128  \n",
       "min       0.000000  \n",
       "25%       0.440969  \n",
       "50%       0.506024  \n",
       "75%       0.561728  \n",
       "max       0.898734  \n",
       "\n",
       "[8 rows x 41 columns]"
      ]
     },
     "execution_count": 7,
     "metadata": {},
     "output_type": "execute_result"
    }
   ],
   "source": [
    "ttest = stats.ttest_ind\n",
    "\n",
    "teams_num.describe()"
   ]
  },
  {
   "cell_type": "code",
   "execution_count": 8,
   "metadata": {},
   "outputs": [
    {
     "data": {
      "text/plain": [
       "Index([u'yearID', u'G', u'Ghome', u'W', u'L', u'LgWin', u'WSWin', u'R', u'AB',\n",
       "       u'H', u'2B', u'3B', u'HR', u'BB', u'SO', u'SB', u'CS', u'HBP', u'SF',\n",
       "       u'RA', u'ER', u'ERA', u'CG', u'SHO', u'SV', u'IPouts', u'HA', u'HRA',\n",
       "       u'BBA', u'SOA', u'E', u'DP', u'FP', u'attendance', u'BPF', u'PPF',\n",
       "       u'BA', u'OBP', u'SLG', u'OPS', u'WinP'],\n",
       "      dtype='object')"
      ]
     },
     "execution_count": 8,
     "metadata": {},
     "output_type": "execute_result"
    }
   ],
   "source": [
    "teams_num.columns"
   ]
  },
  {
   "cell_type": "code",
   "execution_count": 9,
   "metadata": {},
   "outputs": [
    {
     "name": "stdout",
     "output_type": "stream",
     "text": [
      "('The average Winner OPS is: ', 0.7407585006892915)\n",
      "('The average NON Winner OPS is: ', 0.7022123312462668)\n",
      "('Our measured mean OPS difference is: ', 0.03854616944302469)\n"
     ]
    }
   ],
   "source": [
    "# Create masks for Winners & Non Winners.\n",
    "\n",
    "winner_mask = (teams_num['WSWin'] == 1)\n",
    "non_winner_mask = (teams_num['WSWin'] == 0)\n",
    "winner_df = teams_num[winner_mask]\n",
    "non_winner_df = teams_num[non_winner_mask]\n",
    "\n",
    "#Print out average OPS of each group, and our measured difference for fun.\n",
    "print(\"The average Winner OPS is: \", winner_df.OPS.mean())\n",
    "print(\"The average NON Winner OPS is: \", non_winner_df.OPS.mean())\n",
    "print(\"Our measured mean OPS difference is: \", ((winner_df.OPS.mean() - non_winner_df.OPS.mean())))"
   ]
  },
  {
   "cell_type": "code",
   "execution_count": 10,
   "metadata": {},
   "outputs": [
    {
     "data": {
      "text/plain": [
       "Ttest_indResult(statistic=6.692129379096462, pvalue=2.6409215929502404e-11)"
      ]
     },
     "execution_count": 10,
     "metadata": {},
     "output_type": "execute_result"
    }
   ],
   "source": [
    "# Compare their OPS as Series using the stats.ttest_ind()\n",
    "stats.ttest_ind(winner_df.OPS, non_winner_df.OPS)\n",
    "\n",
    "# We have very small pvalue!"
   ]
  },
  {
   "cell_type": "markdown",
   "metadata": {},
   "source": [
    "### Let's look at more Stats..."
   ]
  },
  {
   "cell_type": "code",
   "execution_count": 11,
   "metadata": {},
   "outputs": [
    {
     "name": "stdout",
     "output_type": "stream",
     "text": [
      "('The average Winner ERA is: ', 3.3238461538461537)\n",
      "('The average NON Winner ERA is: ', 3.8401876379691013)\n",
      "('Our measured mean ERA difference is: ', -0.5163414841229477)\n"
     ]
    }
   ],
   "source": [
    "# Start with ERA\n",
    "print(\"The average Winner ERA is: \", winner_df.ERA.mean())\n",
    "print(\"The average NON Winner ERA is: \", non_winner_df.ERA.mean())\n",
    "print(\"Our measured mean ERA difference is: \", ((winner_df.ERA.mean() - non_winner_df.ERA.mean())))"
   ]
  },
  {
   "cell_type": "code",
   "execution_count": 12,
   "metadata": {},
   "outputs": [
    {
     "data": {
      "text/plain": [
       "Ttest_indResult(statistic=-7.252520344978592, pvalue=5.254285329521348e-13)"
      ]
     },
     "execution_count": 12,
     "metadata": {},
     "output_type": "execute_result"
    }
   ],
   "source": [
    "# Compare their ERA as Series using the stats.ttest_ind()\n",
    "stats.ttest_ind(winner_df.ERA, non_winner_df.ERA)\n",
    "\n",
    "# We have even smaller pvalue!"
   ]
  },
  {
   "cell_type": "code",
   "execution_count": 13,
   "metadata": {},
   "outputs": [
    {
     "name": "stdout",
     "output_type": "stream",
     "text": [
      "('The average Winner RA is: ', 603.3247863247864)\n",
      "('The average NON Winner RA is: ', 685.8031640912436)\n",
      "('Our measured mean RA difference is: ', -82.47837776645724)\n"
     ]
    }
   ],
   "source": [
    "# Look at RA\n",
    "print(\"The average Winner RA is: \", winner_df.RA.mean())\n",
    "print(\"The average NON Winner RA is: \", non_winner_df.RA.mean())\n",
    "print(\"Our measured mean RA difference is: \", ((winner_df.RA.mean() - non_winner_df.RA.mean())))"
   ]
  },
  {
   "cell_type": "code",
   "execution_count": 14,
   "metadata": {},
   "outputs": [
    {
     "data": {
      "text/plain": [
       "Ttest_indResult(statistic=-6.541906573603092, pvalue=7.181060144738197e-11)"
      ]
     },
     "execution_count": 14,
     "metadata": {},
     "output_type": "execute_result"
    }
   ],
   "source": [
    "stats.ttest_ind(winner_df.RA, non_winner_df.RA)\n",
    "\n",
    "# We have another very small pvalue!"
   ]
  },
  {
   "cell_type": "code",
   "execution_count": 15,
   "metadata": {},
   "outputs": [
    {
     "name": "stdout",
     "output_type": "stream",
     "text": [
      "('The average Winner R is: ', 774.8888888888889)\n",
      "('The average NON Winner R is: ', 678.4179543782193)\n",
      "('Our measured mean R difference is: ', 96.47093451066962)\n"
     ]
    },
    {
     "data": {
      "text/plain": [
       "Ttest_indResult(statistic=7.6317653112553225, pvalue=3.142719741111642e-14)"
      ]
     },
     "execution_count": 15,
     "metadata": {},
     "output_type": "execute_result"
    }
   ],
   "source": [
    "# Look at Runs\n",
    "print(\"The average Winner R is: \", winner_df.R.mean())\n",
    "print(\"The average NON Winner R is: \", non_winner_df.R.mean())\n",
    "print(\"Our measured mean R difference is: \", ((winner_df.R.mean() - non_winner_df.R.mean())))\n",
    "stats.ttest_ind(winner_df.R, non_winner_df.R)\n",
    "\n",
    "# We have another very small pvalue!"
   ]
  },
  {
   "cell_type": "code",
   "execution_count": null,
   "metadata": {
    "collapsed": true
   },
   "outputs": [],
   "source": []
  },
  {
   "cell_type": "code",
   "execution_count": null,
   "metadata": {
    "collapsed": true
   },
   "outputs": [],
   "source": []
  }
 ],
 "metadata": {
  "kernelspec": {
   "display_name": "Python [default]",
   "language": "python",
   "name": "python2"
  },
  "language_info": {
   "codemirror_mode": {
    "name": "ipython",
    "version": 2
   },
   "file_extension": ".py",
   "mimetype": "text/x-python",
   "name": "python",
   "nbconvert_exporter": "python",
   "pygments_lexer": "ipython2",
   "version": "2.7.14"
  }
 },
 "nbformat": 4,
 "nbformat_minor": 2
}
