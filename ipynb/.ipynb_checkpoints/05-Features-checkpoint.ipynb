{
 "cells": [
  {
   "cell_type": "markdown",
   "metadata": {},
   "source": [
    "![CharlieBlackmonHR](http://www.denverpost.com/wp-content/uploads/2017/04/denverpost-com-671311704.jpg?w=525 \"Charlie Blackmon home run\")"
   ]
  },
  {
   "cell_type": "markdown",
   "metadata": {},
   "source": [
    "### What features do we want?"
   ]
  },
  {
   "cell_type": "code",
   "execution_count": 1,
   "metadata": {},
   "outputs": [
    {
     "name": "stdout",
     "output_type": "stream",
     "text": [
      "/Users/johnphillips/Desktop/DSI-Class-Stuff/CAPSTONE\n"
     ]
    }
   ],
   "source": [
    "cd .."
   ]
  },
  {
   "cell_type": "code",
   "execution_count": 2,
   "metadata": {
    "collapsed": true
   },
   "outputs": [],
   "source": [
    "%matplotlib inline"
   ]
  },
  {
   "cell_type": "code",
   "execution_count": 3,
   "metadata": {
    "collapsed": true
   },
   "outputs": [],
   "source": [
    "%run __init__.py"
   ]
  },
  {
   "cell_type": "code",
   "execution_count": 4,
   "metadata": {
    "collapsed": true
   },
   "outputs": [],
   "source": [
    "# Start with reading the data from the pickle\n",
    "teams = pd.read_pickle('data/teams.p')"
   ]
  },
  {
   "cell_type": "code",
   "execution_count": 5,
   "metadata": {},
   "outputs": [
    {
     "data": {
      "text/plain": [
       "Index([u'yearID', u'G', u'Ghome', u'W', u'L', u'LgWin', u'WSWin', u'R', u'AB',\n",
       "       u'H', u'2B', u'3B', u'HR', u'BB', u'SO', u'SB', u'CS', u'HBP', u'SF',\n",
       "       u'RA', u'ER', u'ERA', u'CG', u'SHO', u'SV', u'IPouts', u'HA', u'HRA',\n",
       "       u'BBA', u'SOA', u'E', u'DP', u'FP', u'attendance', u'BPF', u'PPF',\n",
       "       u'BA', u'OBP', u'SLG', u'OPS', u'WinP'],\n",
       "      dtype='object')"
      ]
     },
     "execution_count": 5,
     "metadata": {},
     "output_type": "execute_result"
    }
   ],
   "source": [
    "# Separate the Numeric Columns:\n",
    "\n",
    "teams_num = teams.select_dtypes(exclude=['object', 'category'])\n",
    "teams_num.columns"
   ]
  },
  {
   "cell_type": "markdown",
   "metadata": {
    "collapsed": true
   },
   "source": [
    "### Separate X and y "
   ]
  },
  {
   "cell_type": "code",
   "execution_count": 6,
   "metadata": {
    "collapsed": true
   },
   "outputs": [],
   "source": [
    "# Had to also drop Wins, Losses, and WinP since those are direct indicators.\n",
    "# And they are not part of a players individual stats.\n",
    "X = teams_num.drop(['WSWin', 'LgWin', 'W', 'L', 'WinP'], axis=1) \n",
    "\n",
    "# Make a y2 based upon Winning Leage Series, for possible second model.\n",
    "y = teams_num['WSWin']\n",
    "y2 = teams_num['LgWin'] "
   ]
  },
  {
   "cell_type": "code",
   "execution_count": 7,
   "metadata": {
    "collapsed": true
   },
   "outputs": [],
   "source": [
    "# Train-test split our data...\n",
    "\n",
    "# Standard split:\n",
    "X_train, X_test, y_train, y_test = train_test_split(X, y, random_state = 42, test_size=0.5)\n",
    "\n",
    "# Second split based upon LgWin target:\n",
    "X2_train, X2_test, y2_train, y2_test = train_test_split(X, y2, random_state = 42, test_size=0.5)"
   ]
  },
  {
   "cell_type": "markdown",
   "metadata": {
    "collapsed": true
   },
   "source": [
    "### Recursive Feature Elimination with Logistic Regression to find some features"
   ]
  },
  {
   "cell_type": "code",
   "execution_count": 8,
   "metadata": {
    "collapsed": true
   },
   "outputs": [],
   "source": [
    "rfe = RFE(LogisticRegression(C=0.1, random_state=42), n_features_to_select=5, step=1, verbose=0)\n",
    "scaler = StandardScaler()\n",
    "X_train_scaled = scaler.fit_transform(X_train)\n",
    "X_test_scaled = scaler.transform(X_test)"
   ]
  },
  {
   "cell_type": "code",
   "execution_count": 9,
   "metadata": {
    "collapsed": true
   },
   "outputs": [],
   "source": [
    "# Second Setup with League Champ as target.\n",
    "rfe2 = RFE(LogisticRegression(C=0.1, random_state=42), n_features_to_select=5, step=1, verbose=0, )\n",
    "scaler2 = StandardScaler()\n",
    "X2_train_scaled = scaler2.fit_transform(X2_train)\n",
    "X2_test_scaled = scaler2.transform(X2_test)"
   ]
  },
  {
   "cell_type": "code",
   "execution_count": 10,
   "metadata": {},
   "outputs": [
    {
     "data": {
      "text/plain": [
       "RFE(estimator=LogisticRegression(C=0.1, class_weight=None, dual=False, fit_intercept=True,\n",
       "          intercept_scaling=1, max_iter=100, multi_class='ovr', n_jobs=1,\n",
       "          penalty='l2', random_state=42, solver='liblinear', tol=0.0001,\n",
       "          verbose=0, warm_start=False),\n",
       "  n_features_to_select=5, step=1, verbose=0)"
      ]
     },
     "execution_count": 10,
     "metadata": {},
     "output_type": "execute_result"
    }
   ],
   "source": [
    "rfe.fit(X_train_scaled, y_train)\n",
    "rfe2.fit(X2_train_scaled, y2_train)"
   ]
  },
  {
   "cell_type": "code",
   "execution_count": 11,
   "metadata": {},
   "outputs": [
    {
     "name": "stdout",
     "output_type": "stream",
     "text": [
      "('The WS features are :', array([ 3, 15, 17, 19, 35]))\n",
      "('The LS features are :', array([ 3, 15, 17, 31, 35]))\n"
     ]
    }
   ],
   "source": [
    "# Print the feature columns...\n",
    "rfe_feats = np.where(rfe.get_support())[0]\n",
    "print(\"The WS features are :\", rfe_feats)\n",
    "\n",
    "rfe2_feats = np.where(rfe2.get_support())[0]\n",
    "print(\"The LS features are :\", rfe2_feats)"
   ]
  },
  {
   "cell_type": "code",
   "execution_count": 12,
   "metadata": {},
   "outputs": [
    {
     "name": "stdout",
     "output_type": "stream",
     "text": [
      "The RFE score is : 0.95\n",
      "The RFE score is : 0.92\n"
     ]
    }
   ],
   "source": [
    "print(\"The RFE score is : {:.2f}\".format(rfe.score(X_train_scaled, y_train)))\n",
    "print(\"The RFE score is : {:.2f}\".format(rfe2.score(X2_train_scaled, y2_train)))"
   ]
  },
  {
   "cell_type": "code",
   "execution_count": 13,
   "metadata": {},
   "outputs": [
    {
     "data": {
      "text/plain": [
       "('R', 'RA', 'ERA', 'SHO', 'OPS')"
      ]
     },
     "execution_count": 13,
     "metadata": {},
     "output_type": "execute_result"
    }
   ],
   "source": [
    "X.columns[3], X.columns[15], X.columns[17], X.columns[19], X.columns[35]"
   ]
  },
  {
   "cell_type": "code",
   "execution_count": 14,
   "metadata": {},
   "outputs": [
    {
     "data": {
      "text/plain": [
       "('R', 'RA', 'ERA', 'PPF', 'OPS')"
      ]
     },
     "execution_count": 14,
     "metadata": {},
     "output_type": "execute_result"
    }
   ],
   "source": [
    "X.columns[3], X.columns[15], X.columns[17], X.columns[31], X.columns[35]"
   ]
  },
  {
   "cell_type": "markdown",
   "metadata": {},
   "source": [
    "### Different Features:\n",
    "Interesting that the features are slightly different for the two different targets.\n",
    "\n",
    "For the World Series Win target, the top features are:\n",
    "* R: Runs; \n",
    "* RA: Opponents Runs Scored; \n",
    "* ERA: Earned Run Average; \n",
    "* SHO: Shutouts; \n",
    "* OPS: On base Plus Slugging percentage.\n",
    "\n",
    "For the League Champion Win target, the top features are:\n",
    "* R: Runs; \n",
    "* RA: Opponents Runs Scored; \n",
    "* ERA: Earned Run Average; \n",
    "* PPF: 3 year park factor for pitchers;\n",
    "* OPS: On base Plus Slugging percentage."
   ]
  },
  {
   "cell_type": "code",
   "execution_count": 15,
   "metadata": {},
   "outputs": [
    {
     "data": {
      "text/plain": [
       "<matplotlib.axes._subplots.AxesSubplot at 0x109b5bb90>"
      ]
     },
     "execution_count": 15,
     "metadata": {},
     "output_type": "execute_result"
    },
    {
     "data": {
      "image/png": "[encoded data removed]",
      "text/plain": [
       "<matplotlib.figure.Figure at 0x106503a10>"
      ]
     },
     "metadata": {},
     "output_type": "display_data"
    }
   ],
   "source": [
    "# Show correlation of each feature from WSWin target.\n",
    "ws_cols = teams_num[['R', 'RA', 'ERA', 'SHO', 'OPS']]\n",
    "\n",
    "# Heatmap it!\n",
    "sns.heatmap(ws_cols.corr(), annot=True, cmap='Blues')"
   ]
  },
  {
   "cell_type": "code",
   "execution_count": 16,
   "metadata": {},
   "outputs": [
    {
     "data": {
      "text/plain": [
       "<matplotlib.axes._subplots.AxesSubplot at 0x10bec5a90>"
      ]
     },
     "execution_count": 16,
     "metadata": {},
     "output_type": "execute_result"
    },
    {
     "data": {
      "image/png": "[encoded data removed]",
      "text/plain": [
       "<matplotlib.figure.Figure at 0x10be67f50>"
      ]
     },
     "metadata": {},
     "output_type": "display_data"
    }
   ],
   "source": [
    "# Show correlation of each feature from LgWin target\n",
    "ls_cols = teams_num[['R', 'RA', 'ERA', 'PPF', 'OPS']]\n",
    "\n",
    "# Heatmap it!\n",
    "sns.heatmap(ls_cols.corr(), annot=True, cmap='RdBu_r')"
   ]
  },
  {
   "cell_type": "code",
   "execution_count": 17,
   "metadata": {},
   "outputs": [
    {
     "data": {
      "text/plain": [
       "<matplotlib.axes._subplots.AxesSubplot at 0x10bfc0150>"
      ]
     },
     "execution_count": 17,
     "metadata": {},
     "output_type": "execute_result"
    },
    {
     "data": {
      "image/png": "[encoded data removed]",
      "text/plain": [
       "<matplotlib.figure.Figure at 0x10bfc09d0>"
      ]
     },
     "metadata": {},
     "output_type": "display_data"
    }
   ],
   "source": [
    "# Let's put all 6 features in one Heatmap:\n",
    "\n",
    "# Show correlation of each feature from WSWin target.\n",
    "six_cols = teams_num[['R', 'RA', 'ERA', 'SHO', 'PPF', 'OPS']]\n",
    "\n",
    "# Heatmap it!\n",
    "fig = plt.figure(figsize=(9,9))\n",
    "sns.heatmap(six_cols.corr(), annot=True, cmap='BrBG_r')\n",
    "# Changed cmap to \"diverging\" class, so we want to look for darker correlations"
   ]
  },
  {
   "cell_type": "markdown",
   "metadata": {
    "collapsed": true
   },
   "source": [
    "### Look at PCA to reduce to important features"
   ]
  },
  {
   "cell_type": "code",
   "execution_count": 23,
   "metadata": {
    "collapsed": true
   },
   "outputs": [],
   "source": [
    "scaler = StandardScaler()\n",
    "scaler.fit(X)\n",
    "X_scaled = scaler.transform(X)"
   ]
  },
  {
   "cell_type": "code",
   "execution_count": 24,
   "metadata": {},
   "outputs": [
    {
     "ename": "TypeError",
     "evalue": "'PCA' object is not callable",
     "output_type": "error",
     "traceback": [
      "\u001b[0;31m---------------------------------------------------------------------------\u001b[0m",
      "\u001b[0;31mTypeError\u001b[0m                                 Traceback (most recent call last)",
      "\u001b[0;32m<ipython-input-24-6c4bfaa76c53>\u001b[0m in \u001b[0;36m<module>\u001b[0;34m()\u001b[0m\n\u001b[0;32m----> 1\u001b[0;31m \u001b[0mpca\u001b[0m \u001b[0;34m=\u001b[0m \u001b[0mPCA\u001b[0m\u001b[0;34m(\u001b[0m\u001b[0mn_components\u001b[0m\u001b[0;34m=\u001b[0m\u001b[0;36m6\u001b[0m\u001b[0;34m)\u001b[0m\u001b[0;34m\u001b[0m\u001b[0m\n\u001b[0m\u001b[1;32m      2\u001b[0m \u001b[0mreduced\u001b[0m \u001b[0;34m=\u001b[0m \u001b[0mpca\u001b[0m\u001b[0;34m.\u001b[0m\u001b[0mfit_transform\u001b[0m\u001b[0;34m(\u001b[0m\u001b[0mX_scaled\u001b[0m\u001b[0;34m)\u001b[0m\u001b[0;34m\u001b[0m\u001b[0m\n\u001b[1;32m      3\u001b[0m \u001b[0;34m\u001b[0m\u001b[0m\n\u001b[1;32m      4\u001b[0m \u001b[0;31m#X_pca = pca.transform(X_scaled)\u001b[0m\u001b[0;34m\u001b[0m\u001b[0;34m\u001b[0m\u001b[0m\n\u001b[1;32m      5\u001b[0m \u001b[0;32mprint\u001b[0m\u001b[0;34m(\u001b[0m\u001b[0;34m\"Original shape: {}\"\u001b[0m\u001b[0;34m.\u001b[0m\u001b[0mformat\u001b[0m\u001b[0;34m(\u001b[0m\u001b[0mstr\u001b[0m\u001b[0;34m(\u001b[0m\u001b[0mX_scaled\u001b[0m\u001b[0;34m.\u001b[0m\u001b[0mshape\u001b[0m\u001b[0;34m)\u001b[0m\u001b[0;34m)\u001b[0m\u001b[0;34m)\u001b[0m\u001b[0;34m\u001b[0m\u001b[0m\n",
      "\u001b[0;31mTypeError\u001b[0m: 'PCA' object is not callable"
     ]
    }
   ],
   "source": [
    "pca = PCA(n_components=6)\n",
    "reduced = pca.fit_transform(X_scaled)\n",
    "\n",
    "#X_pca = pca.transform(X_scaled)\n",
    "print(\"Original shape: {}\".format(str(X_scaled.shape)))\n",
    "print(\"Reduced shape: {}\".format(str(reduced.shape)))"
   ]
  },
  {
   "cell_type": "code",
   "execution_count": 25,
   "metadata": {},
   "outputs": [
    {
     "name": "stdout",
     "output_type": "stream",
     "text": [
      "PCA component shape: (2835, 6)\n"
     ]
    }
   ],
   "source": [
    "#print(\"PCA component shape: {}\".format(pca.components_.shape))\n",
    "print(\"PCA component shape: {}\".format(reduced.shape))"
   ]
  },
  {
   "cell_type": "code",
   "execution_count": 26,
   "metadata": {},
   "outputs": [
    {
     "data": {
      "text/plain": [
       "Text(0,0.5,u'Principal components')"
      ]
     },
     "execution_count": 26,
     "metadata": {},
     "output_type": "execute_result"
    },
    {
     "data": {
      "image/png": "[encoded data removed]",
      "text/plain": [
       "<matplotlib.figure.Figure at 0x1a145f6890>"
      ]
     },
     "metadata": {},
     "output_type": "display_data"
    }
   ],
   "source": [
    "# Use plt.matshow to display colorful matrix of pca.components_\n",
    "\n",
    "plt.matshow(pca.components_, cmap='coolwarm')\n",
    "plt.yticks([0, 1, 2, 3, 4, 5], ['Comp1', 'Comp2', 'Comp3', 'Comp4', 'Comp5', 'Comp6'] )\n",
    "plt.colorbar()\n",
    "plt.xticks(range(len(X.columns)), X.columns, rotation=43, ha='left')\n",
    "plt.xlabel(\"Features\")\n",
    "plt.ylabel(\"Principal components\")"
   ]
  },
  {
   "cell_type": "code",
   "execution_count": 21,
   "metadata": {},
   "outputs": [
    {
     "data": {
      "text/plain": [
       "array([[  3.54678983e-05,   1.06464155e-05,   1.44787611e-05,\n",
       "          4.72866132e-05,   3.54660857e-04,   9.62647382e-05,\n",
       "          3.61792566e-05,  -1.16322776e-05,   4.83569581e-05,\n",
       "          6.39620424e-05,   2.46509896e-04,  -7.99585725e-06,\n",
       "          1.12601530e-05,   1.27573181e-05,   1.01668511e-05,\n",
       "          2.15558059e-05,   6.83065385e-05,   1.87337141e-07,\n",
       "         -2.93315568e-05,   6.36353394e-07,   1.35301693e-05,\n",
       "          2.99385919e-04,   7.59929120e-05,   4.31047835e-05,\n",
       "          5.08797598e-05,   2.41886606e-04,  -7.27686346e-05,\n",
       "          2.68726380e-05,   1.71256441e-08,   9.99999811e-01,\n",
       "          1.95086065e-07,  -1.49225552e-07,   9.71594006e-10,\n",
       "          7.04822656e-09,   2.46337680e-08,   3.16819946e-08],\n",
       "       [ -1.16973120e-02,  -2.20889635e-02,  -1.65783299e-02,\n",
       "         -7.28399699e-02,  -7.14309570e-01,  -1.89490875e-01,\n",
       "         -3.23474652e-02,  -6.45217878e-03,  -1.56003181e-02,\n",
       "         -9.13025492e-02,  -1.00541954e-01,  -1.66528297e-02,\n",
       "         -7.82208675e-03,   5.65628803e-04,   4.51757944e-04,\n",
       "         -8.15241548e-02,  -9.69894509e-02,  -1.21087184e-04,\n",
       "         -3.18671197e-03,  -1.45369118e-03,  -3.22689303e-03,\n",
       "         -5.93107143e-01,  -1.95223601e-01,  -1.81874519e-02,\n",
       "         -9.88636810e-02,  -1.00098469e-01,   2.51070789e-02,\n",
       "         -2.85506879e-02,  -2.15262510e-05,   5.41688591e-04,\n",
       "         -2.46205770e-04,  -1.34183056e-04,  -1.77861215e-06,\n",
       "         -9.83594943e-06,  -9.17074444e-06,  -1.90066939e-05],\n",
       "       [  5.66693712e-02,   2.28181306e-04,   8.14453241e-03,\n",
       "         -1.83582082e-01,  -1.04223410e-01,  -2.26634757e-01,\n",
       "         -1.41693047e-02,  -3.99178427e-02,   5.98503105e-02,\n",
       "         -2.76345495e-02,   7.61010860e-01,  -6.15756994e-02,\n",
       "          1.65255859e-02,   2.20224090e-02,   1.58170809e-02,\n",
       "         -4.74210313e-02,   1.93662672e-02,   8.07488041e-05,\n",
       "         -6.40038568e-02,  -2.57778815e-04,   1.91609368e-02,\n",
       "          3.39105920e-02,  -1.09051271e-01,   7.65295929e-02,\n",
       "          3.24777378e-02,   5.24324612e-01,  -9.11679255e-02,\n",
       "          2.10571273e-02,   8.84080865e-06,  -2.67744002e-04,\n",
       "         -2.02147001e-03,  -1.80288745e-04,  -3.96641269e-05,\n",
       "         -3.83617013e-05,  -2.34291537e-05,  -6.17908550e-05],\n",
       "       [  1.64873865e-02,  -1.05578280e-02,  -2.75889294e-02,\n",
       "          2.51480795e-01,  -1.41898694e-02,   1.76128787e-01,\n",
       "          8.44939517e-02,  -1.05422953e-03,   7.43356607e-02,\n",
       "          7.23523332e-02,   2.91521165e-01,  -2.89269919e-02,\n",
       "          3.35061660e-03,   1.69853092e-02,   1.34967154e-02,\n",
       "          4.93934565e-01,   4.28842973e-01,   3.25404859e-03,\n",
       "         -3.56273254e-02,  -1.79846038e-02,  -2.33021983e-04,\n",
       "         -4.01365501e-01,   3.87001111e-01,   9.65367926e-02,\n",
       "          1.56390880e-01,  -1.55119959e-01,   4.39272974e-02,\n",
       "         -6.92262718e-03,  -1.65886712e-05,  -2.90954922e-05,\n",
       "          1.57144426e-03,   4.59961916e-03,   3.46748146e-05,\n",
       "          4.02985306e-05,   9.12556075e-05,   1.31554138e-04],\n",
       "       [ -4.20392412e-02,  -8.38633843e-03,  -7.80802383e-02,\n",
       "          5.92955745e-01,   1.54700480e-01,   3.06294563e-01,\n",
       "          7.03682103e-02,   4.87618006e-02,   3.71890165e-02,\n",
       "          7.94328097e-03,   7.28915954e-02,   2.14696948e-01,\n",
       "         -4.02934480e-02,   2.38880725e-02,   2.03040678e-02,\n",
       "         -7.79838267e-02,  -2.29810281e-01,  -1.53917228e-03,\n",
       "          6.30459378e-02,   3.71797528e-03,   5.85871079e-04,\n",
       "         -2.39409522e-01,  -2.77349160e-01,  -3.93054265e-02,\n",
       "         -2.15011710e-01,   3.37548044e-01,   2.74609429e-01,\n",
       "         -1.60067238e-01,  -4.12961791e-05,  -6.30354194e-05,\n",
       "          7.68796548e-03,  -1.05035039e-03,   5.75740404e-05,\n",
       "          5.49462665e-05,   1.09616177e-04,   1.64562444e-04],\n",
       "       [ -4.87584045e-02,   6.76665901e-03,  -6.71050378e-02,\n",
       "         -2.63105124e-01,   9.87742024e-02,  -2.62739432e-01,\n",
       "         -9.84110858e-02,   2.01642615e-02,  -1.41996853e-01,\n",
       "         -4.89705622e-01,  -8.24087277e-02,   2.39784927e-01,\n",
       "         -4.96551807e-02,   3.17226841e-02,   2.39963300e-02,\n",
       "          3.44077282e-01,   1.82928509e-02,   5.81422356e-05,\n",
       "          7.27553729e-02,  -5.74664113e-03,  -2.16612536e-02,\n",
       "          2.24683435e-02,   1.83684338e-01,  -7.22621047e-02,\n",
       "         -2.08249214e-01,   1.50127740e-01,   4.91997756e-01,\n",
       "         -1.86228134e-01,  -6.82241764e-05,   6.07411347e-05,\n",
       "         -4.31583551e-03,   2.40066948e-03,  -5.62323290e-05,\n",
       "         -1.06356930e-04,  -1.51493644e-04,  -2.57850574e-04]])"
      ]
     },
     "execution_count": 21,
     "metadata": {},
     "output_type": "execute_result"
    }
   ],
   "source": [
    "from sklearn import decomposition\n",
    "PCA = decomposition.PCA(n_components=6)\n",
    "PCA.fit(X)\n",
    "PCA_X = PCA.transform(X)\n",
    "PCA.components_  # resulting eigenvectors"
   ]
  },
  {
   "cell_type": "code",
   "execution_count": 22,
   "metadata": {},
   "outputs": [
    {
     "data": {
      "text/plain": [
       "array([  1.95568183e+03,   1.50469841e+02,   6.74486772e+01,\n",
       "         6.82399295e+02,   5.14647337e+03,   1.34693933e+03,\n",
       "         2.28127690e+02,   4.69135802e+01,   1.02045150e+02,\n",
       "         4.73959083e+02,   7.12654321e+02,   1.06275838e+02,\n",
       "         3.38271605e+01,   1.00800705e+01,   7.99259259e+00,\n",
       "         6.82399295e+02,   5.71952381e+02,   3.81887831e+00,\n",
       "         4.99760141e+01,   9.65925926e+00,   2.38673721e+01,\n",
       "         4.02564515e+03,   1.34675168e+03,   1.02045150e+02,\n",
       "         4.74316755e+02,   7.37241623e+02,   1.85365432e+02,\n",
       "         1.24556614e+02,   9.65447266e-01,   1.22361029e+06,\n",
       "         1.00197531e+02,   1.00223280e+02,   2.61383305e-01,\n",
       "         3.22820532e-01,   3.80982593e-01,   7.03803126e-01])"
      ]
     },
     "execution_count": 22,
     "metadata": {},
     "output_type": "execute_result"
    }
   ],
   "source": [
    "PCA.mean_"
   ]
  },
  {
   "cell_type": "code",
   "execution_count": 23,
   "metadata": {},
   "outputs": [
    {
     "data": {
      "text/plain": [
       "array([[-545287.68624492,  483604.18121852,  238317.90030309,\n",
       "        -435628.25215907, -264536.13964777, -189268.97079512],\n",
       "       [  -3141.02060126,   -1533.18908806,   -2106.95264611,\n",
       "            726.7732528 ,    -634.67761454,   -1474.52668625],\n",
       "       [ -44535.05264777,   35577.44175799,   16238.3854886 ,\n",
       "         -32411.50294317,  -20646.80584053,  -15687.59382906],\n",
       "       [ -24988.40580555,   17146.00295213,    7020.93270855,\n",
       "         -15815.41701098,  -10904.61571579,   -8860.43202695],\n",
       "       [ -60425.17853693,   48998.89010171,   22793.20122279,\n",
       "         -44420.15448643,  -28048.81682459,  -20968.73323654],\n",
       "       [-113812.68078557,   96982.71674585,   46536.77541865,\n",
       "         -87831.36050723,  -54183.12036636,  -39584.59658497],\n",
       "       [ -73968.78017472,   61518.54672074,   29319.52936778,\n",
       "         -56099.30639693,  -35102.95421958,  -25939.23940051],\n",
       "       [-114914.13048123,   97895.69153595,   46991.72039707,\n",
       "         -88782.99255884,  -54732.97692974,  -40011.94174258],\n",
       "       [-140593.28616126,  121189.24375069,   58542.10044049,\n",
       "        -109502.56924625,  -67252.70954428,  -48872.05857049],\n",
       "       [-488562.57141227,  432867.63097183,  213097.64797551,\n",
       "        -389805.53420146, -236878.53560281, -169633.38432196]])"
      ]
     },
     "execution_count": 23,
     "metadata": {},
     "output_type": "execute_result"
    }
   ],
   "source": [
    "np.dot(X_train - pca.mean_, pca.components_.T)[:10]"
   ]
  },
  {
   "cell_type": "code",
   "execution_count": 24,
   "metadata": {
    "collapsed": true
   },
   "outputs": [],
   "source": [
    "def model_it(X_train, X_test, y_train, y_test):\n",
    "    from sklearn.naive_bayes import GaussianNB\n",
    "    GNB = GaussianNB()\n",
    "    GNB.fit(X_train,y_train)\n",
    "    print(GNB.score(X_test,y_test))\n",
    "\n",
    "    # Native Bayes classifier, function to do it"
   ]
  },
  {
   "cell_type": "code",
   "execution_count": 25,
   "metadata": {},
   "outputs": [
    {
     "name": "stdout",
     "output_type": "stream",
     "text": [
      "0.741184767278\n"
     ]
    }
   ],
   "source": [
    "model_it(X_train, X_test, y_train, y_test)"
   ]
  },
  {
   "cell_type": "code",
   "execution_count": 26,
   "metadata": {
    "collapsed": true
   },
   "outputs": [],
   "source": [
    "# Instantiate our Principal Componenter\n",
    "pca = decomposition.PCA(n_components=5) # 5 components.\n",
    "pca.fit(X_train) # fitting out PC using the train data\n",
    "PCA_X_train = pca.transform(X_train) #transforming x_train\n",
    "PCA_X_test = pca.transform(X_test)   #transforming x_test"
   ]
  },
  {
   "cell_type": "code",
   "execution_count": 27,
   "metadata": {},
   "outputs": [
    {
     "name": "stdout",
     "output_type": "stream",
     "text": [
      "0.954160789845\n"
     ]
    }
   ],
   "source": [
    "model_it(PCA_X_train, PCA_X_test, y_train, y_test)"
   ]
  },
  {
   "cell_type": "code",
   "execution_count": 28,
   "metadata": {
    "collapsed": true
   },
   "outputs": [],
   "source": [
    "PCA_1 = [x[0] for x in PCA_X]\n",
    "PCA_2 = [x[1] for x in PCA_X]\n",
    "PCA_3 = [x[2] for x in PCA_X]\n",
    "PCA_4 = [x[3] for x in PCA_X]\n",
    "PCA_5 = [x[4] for x in PCA_X]"
   ]
  },
  {
   "cell_type": "code",
   "execution_count": 29,
   "metadata": {},
   "outputs": [
    {
     "data": {
      "image/png": "[encoded data removed]",
      "text/plain": [
       "<matplotlib.figure.Figure at 0x1a1ea09290>"
      ]
     },
     "metadata": {},
     "output_type": "display_data"
    }
   ],
   "source": [
    "plt.scatter(PCA_1, PCA_2)\n",
    "plt.scatter(PCA_1, PCA_5)\n",
    "plt.show()  # resulting eigenvectors"
   ]
  },
  {
   "cell_type": "code",
   "execution_count": 31,
   "metadata": {
    "collapsed": true
   },
   "outputs": [],
   "source": [
    "new_reduced = pd.DataFrame(reduced)"
   ]
  },
  {
   "cell_type": "code",
   "execution_count": 32,
   "metadata": {
    "collapsed": true
   },
   "outputs": [],
   "source": [
    "# Pickle when ready\n",
    "teams_num.to_pickle('data/teams_num.p')\n",
    "new_reduced.to_pickle('data/new_reduced.p')"
   ]
  },
  {
   "cell_type": "code",
   "execution_count": null,
   "metadata": {
    "collapsed": true
   },
   "outputs": [],
   "source": []
  }
 ],
 "metadata": {
  "kernelspec": {
   "display_name": "Python [default]",
   "language": "python",
   "name": "python2"
  },
  "language_info": {
   "codemirror_mode": {
    "name": "ipython",
    "version": 2
   },
   "file_extension": ".py",
   "mimetype": "text/x-python",
   "name": "python",
   "nbconvert_exporter": "python",
   "pygments_lexer": "ipython2",
   "version": "2.7.14"
  }
 },
 "nbformat": 4,
 "nbformat_minor": 2
}
