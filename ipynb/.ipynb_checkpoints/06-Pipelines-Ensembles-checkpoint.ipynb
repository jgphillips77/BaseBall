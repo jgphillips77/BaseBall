{
 "cells": [
  {
   "cell_type": "markdown",
   "metadata": {},
   "source": [
    "![HanksTeam](https://baseballhall.org/sites/default/files/styles/header_image_1800_w/public/Aaron%20Hank%20312.68_Grp_NBL.jpg?itok=ekmrvcZs \"Hank Aaron poses with fellow Hall of Famer Eddie Mathews (center), and Braves first baseman Joe Adcock, while playing for the Milwaukee Braves. (National Baseball Hall of Fame)\")"
   ]
  },
  {
   "cell_type": "markdown",
   "metadata": {},
   "source": [
    "### Build a better Pipeline"
   ]
  },
  {
   "cell_type": "code",
   "execution_count": 1,
   "metadata": {},
   "outputs": [
    {
     "name": "stdout",
     "output_type": "stream",
     "text": [
      "/Users/johnphillips/Desktop/DSI-Class-Stuff/BaseBall\n"
     ]
    }
   ],
   "source": [
    "cd .."
   ]
  },
  {
   "cell_type": "code",
   "execution_count": 2,
   "metadata": {
    "collapsed": true
   },
   "outputs": [],
   "source": [
    "%matplotlib inline"
   ]
  },
  {
   "cell_type": "code",
   "execution_count": 3,
   "metadata": {
    "collapsed": true
   },
   "outputs": [],
   "source": [
    "%run __init__.py"
   ]
  },
  {
   "cell_type": "code",
   "execution_count": 4,
   "metadata": {
    "collapsed": true
   },
   "outputs": [],
   "source": [
    "# Start with reading the data sets from the pickles\n",
    "teams = pd.read_pickle('data/teams.p')\n",
    "teams_num = pd.read_pickle('data/teams_num.p')\n",
    "new_reduced = pd.read_pickle('data/new_reduced.p')"
   ]
  },
  {
   "cell_type": "markdown",
   "metadata": {
    "collapsed": true
   },
   "source": [
    "### Separate X and y "
   ]
  },
  {
   "cell_type": "code",
   "execution_count": 5,
   "metadata": {
    "collapsed": true
   },
   "outputs": [],
   "source": [
    "# Had to also drop Wins, Losses, and WinP since those are direct indicators.\n",
    "# And they are not part of a players individual stats.\n",
    "X = teams_num.drop(['WSWin', 'LgWin', 'W', 'L', 'WinP'], axis=1) \n",
    "\n",
    "# Make a y2 based upon Winning Leage Series, for possible second model.\n",
    "y = teams_num['WSWin']\n",
    "y2 = teams_num['LgWin'] "
   ]
  },
  {
   "cell_type": "code",
   "execution_count": 6,
   "metadata": {
    "collapsed": true
   },
   "outputs": [],
   "source": [
    "# Train-test split our data...\n",
    "\n",
    "# Standard split:\n",
    "X_train, X_test, y_train, y_test = train_test_split(X, y, random_state = 42, test_size=0.33)\n",
    "\n",
    "# Second split based upon LgWin target:\n",
    "X2_train, X2_test, y2_train, y2_test = train_test_split(X, y2, random_state = 42, test_size=0.33)"
   ]
  },
  {
   "cell_type": "code",
   "execution_count": 7,
   "metadata": {
    "collapsed": true
   },
   "outputs": [],
   "source": [
    "# Don't forget scaled data:\n",
    "scaler = StandardScaler()\n",
    "X_train_scaled = scaler.fit_transform(X_train)\n",
    "X_test_scaled = scaler.transform(X_test)"
   ]
  },
  {
   "cell_type": "markdown",
   "metadata": {},
   "source": [
    "### GridSearch CV & Pipelines"
   ]
  },
  {
   "cell_type": "code",
   "execution_count": 8,
   "metadata": {
    "collapsed": true
   },
   "outputs": [],
   "source": [
    "# Basics to start...\n",
    "knc_params = {\n",
    "    'n_neighbors': range(3,13,1)\n",
    "}\n",
    "knc_gs = GridSearchCV(KNeighborsClassifier(), param_grid= knc_params, cv=5)"
   ]
  },
  {
   "cell_type": "code",
   "execution_count": 9,
   "metadata": {},
   "outputs": [
    {
     "data": {
      "text/plain": [
       "GridSearchCV(cv=5, error_score='raise',\n",
       "       estimator=KNeighborsClassifier(algorithm='auto', leaf_size=30, metric='minkowski',\n",
       "           metric_params=None, n_jobs=1, n_neighbors=5, p=2,\n",
       "           weights='uniform'),\n",
       "       fit_params=None, iid=True, n_jobs=1,\n",
       "       param_grid={'n_neighbors': [3, 4, 5, 6, 7, 8, 9, 10, 11, 12]},\n",
       "       pre_dispatch='2*n_jobs', refit=True, return_train_score='warn',\n",
       "       scoring=None, verbose=0)"
      ]
     },
     "execution_count": 9,
     "metadata": {},
     "output_type": "execute_result"
    }
   ],
   "source": [
    "knc_gs.fit(X_train_scaled, y_train)"
   ]
  },
  {
   "cell_type": "code",
   "execution_count": 10,
   "metadata": {},
   "outputs": [
    {
     "name": "stderr",
     "output_type": "stream",
     "text": [
      "/Users/johnphillips/anaconda2/lib/python2.7/site-packages/sklearn/utils/deprecation.py:122: FutureWarning: You are accessing a training score ('mean_train_score'), which will not be available by default any more in 0.21. If you need training scores, please set return_train_score=True\n",
      "  warnings.warn(*warn_args, **warn_kwargs)\n",
      "/Users/johnphillips/anaconda2/lib/python2.7/site-packages/sklearn/utils/deprecation.py:122: FutureWarning: You are accessing a training score ('split0_train_score'), which will not be available by default any more in 0.21. If you need training scores, please set return_train_score=True\n",
      "  warnings.warn(*warn_args, **warn_kwargs)\n",
      "/Users/johnphillips/anaconda2/lib/python2.7/site-packages/sklearn/utils/deprecation.py:122: FutureWarning: You are accessing a training score ('split1_train_score'), which will not be available by default any more in 0.21. If you need training scores, please set return_train_score=True\n",
      "  warnings.warn(*warn_args, **warn_kwargs)\n",
      "/Users/johnphillips/anaconda2/lib/python2.7/site-packages/sklearn/utils/deprecation.py:122: FutureWarning: You are accessing a training score ('split2_train_score'), which will not be available by default any more in 0.21. If you need training scores, please set return_train_score=True\n",
      "  warnings.warn(*warn_args, **warn_kwargs)\n",
      "/Users/johnphillips/anaconda2/lib/python2.7/site-packages/sklearn/utils/deprecation.py:122: FutureWarning: You are accessing a training score ('split3_train_score'), which will not be available by default any more in 0.21. If you need training scores, please set return_train_score=True\n",
      "  warnings.warn(*warn_args, **warn_kwargs)\n",
      "/Users/johnphillips/anaconda2/lib/python2.7/site-packages/sklearn/utils/deprecation.py:122: FutureWarning: You are accessing a training score ('split4_train_score'), which will not be available by default any more in 0.21. If you need training scores, please set return_train_score=True\n",
      "  warnings.warn(*warn_args, **warn_kwargs)\n",
      "/Users/johnphillips/anaconda2/lib/python2.7/site-packages/sklearn/utils/deprecation.py:122: FutureWarning: You are accessing a training score ('std_train_score'), which will not be available by default any more in 0.21. If you need training scores, please set return_train_score=True\n",
      "  warnings.warn(*warn_args, **warn_kwargs)\n"
     ]
    },
    {
     "data": {
      "text/html": [
       "<div>\n",
       "<style>\n",
       "    .dataframe thead tr:only-child th {\n",
       "        text-align: right;\n",
       "    }\n",
       "\n",
       "    .dataframe thead th {\n",
       "        text-align: left;\n",
       "    }\n",
       "\n",
       "    .dataframe tbody tr th {\n",
       "        vertical-align: top;\n",
       "    }\n",
       "</style>\n",
       "<table border=\"1\" class=\"dataframe\">\n",
       "  <thead>\n",
       "    <tr style=\"text-align: right;\">\n",
       "      <th></th>\n",
       "      <th>mean_fit_time</th>\n",
       "      <th>mean_score_time</th>\n",
       "      <th>mean_test_score</th>\n",
       "      <th>mean_train_score</th>\n",
       "      <th>param_n_neighbors</th>\n",
       "      <th>params</th>\n",
       "      <th>rank_test_score</th>\n",
       "      <th>split0_test_score</th>\n",
       "      <th>split0_train_score</th>\n",
       "      <th>split1_test_score</th>\n",
       "      <th>...</th>\n",
       "      <th>split2_test_score</th>\n",
       "      <th>split2_train_score</th>\n",
       "      <th>split3_test_score</th>\n",
       "      <th>split3_train_score</th>\n",
       "      <th>split4_test_score</th>\n",
       "      <th>split4_train_score</th>\n",
       "      <th>std_fit_time</th>\n",
       "      <th>std_score_time</th>\n",
       "      <th>std_test_score</th>\n",
       "      <th>std_train_score</th>\n",
       "    </tr>\n",
       "  </thead>\n",
       "  <tbody>\n",
       "    <tr>\n",
       "      <th>5</th>\n",
       "      <td>0.002103</td>\n",
       "      <td>0.027969</td>\n",
       "      <td>0.955240</td>\n",
       "      <td>0.955766</td>\n",
       "      <td>8</td>\n",
       "      <td>{u'n_neighbors': 8}</td>\n",
       "      <td>1</td>\n",
       "      <td>0.952756</td>\n",
       "      <td>0.957181</td>\n",
       "      <td>0.957895</td>\n",
       "      <td>...</td>\n",
       "      <td>0.952632</td>\n",
       "      <td>0.956550</td>\n",
       "      <td>0.955145</td>\n",
       "      <td>0.956579</td>\n",
       "      <td>0.957784</td>\n",
       "      <td>0.955263</td>\n",
       "      <td>0.000177</td>\n",
       "      <td>0.000358</td>\n",
       "      <td>0.002303</td>\n",
       "      <td>0.001401</td>\n",
       "    </tr>\n",
       "    <tr>\n",
       "      <th>6</th>\n",
       "      <td>0.002107</td>\n",
       "      <td>0.028685</td>\n",
       "      <td>0.955240</td>\n",
       "      <td>0.956556</td>\n",
       "      <td>9</td>\n",
       "      <td>{u'n_neighbors': 9}</td>\n",
       "      <td>1</td>\n",
       "      <td>0.955381</td>\n",
       "      <td>0.957181</td>\n",
       "      <td>0.955263</td>\n",
       "      <td>...</td>\n",
       "      <td>0.952632</td>\n",
       "      <td>0.956550</td>\n",
       "      <td>0.955145</td>\n",
       "      <td>0.958553</td>\n",
       "      <td>0.957784</td>\n",
       "      <td>0.956579</td>\n",
       "      <td>0.000297</td>\n",
       "      <td>0.001449</td>\n",
       "      <td>0.001631</td>\n",
       "      <td>0.001506</td>\n",
       "    </tr>\n",
       "    <tr>\n",
       "      <th>7</th>\n",
       "      <td>0.002010</td>\n",
       "      <td>0.028887</td>\n",
       "      <td>0.955240</td>\n",
       "      <td>0.955898</td>\n",
       "      <td>10</td>\n",
       "      <td>{u'n_neighbors': 10}</td>\n",
       "      <td>1</td>\n",
       "      <td>0.952756</td>\n",
       "      <td>0.957181</td>\n",
       "      <td>0.957895</td>\n",
       "      <td>...</td>\n",
       "      <td>0.952632</td>\n",
       "      <td>0.955892</td>\n",
       "      <td>0.955145</td>\n",
       "      <td>0.956579</td>\n",
       "      <td>0.957784</td>\n",
       "      <td>0.955263</td>\n",
       "      <td>0.000031</td>\n",
       "      <td>0.000938</td>\n",
       "      <td>0.002303</td>\n",
       "      <td>0.000923</td>\n",
       "    </tr>\n",
       "    <tr>\n",
       "      <th>8</th>\n",
       "      <td>0.001985</td>\n",
       "      <td>0.029155</td>\n",
       "      <td>0.954713</td>\n",
       "      <td>0.956556</td>\n",
       "      <td>11</td>\n",
       "      <td>{u'n_neighbors': 11}</td>\n",
       "      <td>4</td>\n",
       "      <td>0.952756</td>\n",
       "      <td>0.956522</td>\n",
       "      <td>0.957895</td>\n",
       "      <td>...</td>\n",
       "      <td>0.950000</td>\n",
       "      <td>0.957209</td>\n",
       "      <td>0.955145</td>\n",
       "      <td>0.958553</td>\n",
       "      <td>0.957784</td>\n",
       "      <td>0.955921</td>\n",
       "      <td>0.000020</td>\n",
       "      <td>0.000774</td>\n",
       "      <td>0.003026</td>\n",
       "      <td>0.001322</td>\n",
       "    </tr>\n",
       "  </tbody>\n",
       "</table>\n",
       "<p>4 rows × 21 columns</p>\n",
       "</div>"
      ],
      "text/plain": [
       "   mean_fit_time  mean_score_time  mean_test_score  mean_train_score  \\\n",
       "5       0.002103         0.027969         0.955240          0.955766   \n",
       "6       0.002107         0.028685         0.955240          0.956556   \n",
       "7       0.002010         0.028887         0.955240          0.955898   \n",
       "8       0.001985         0.029155         0.954713          0.956556   \n",
       "\n",
       "  param_n_neighbors                params  rank_test_score  split0_test_score  \\\n",
       "5                 8   {u'n_neighbors': 8}                1           0.952756   \n",
       "6                 9   {u'n_neighbors': 9}                1           0.955381   \n",
       "7                10  {u'n_neighbors': 10}                1           0.952756   \n",
       "8                11  {u'n_neighbors': 11}                4           0.952756   \n",
       "\n",
       "   split0_train_score  split1_test_score       ...         split2_test_score  \\\n",
       "5            0.957181           0.957895       ...                  0.952632   \n",
       "6            0.957181           0.955263       ...                  0.952632   \n",
       "7            0.957181           0.957895       ...                  0.952632   \n",
       "8            0.956522           0.957895       ...                  0.950000   \n",
       "\n",
       "   split2_train_score  split3_test_score  split3_train_score  \\\n",
       "5            0.956550           0.955145            0.956579   \n",
       "6            0.956550           0.955145            0.958553   \n",
       "7            0.955892           0.955145            0.956579   \n",
       "8            0.957209           0.955145            0.958553   \n",
       "\n",
       "   split4_test_score  split4_train_score  std_fit_time  std_score_time  \\\n",
       "5           0.957784            0.955263      0.000177        0.000358   \n",
       "6           0.957784            0.956579      0.000297        0.001449   \n",
       "7           0.957784            0.955263      0.000031        0.000938   \n",
       "8           0.957784            0.955921      0.000020        0.000774   \n",
       "\n",
       "   std_test_score  std_train_score  \n",
       "5        0.002303         0.001401  \n",
       "6        0.001631         0.001506  \n",
       "7        0.002303         0.000923  \n",
       "8        0.003026         0.001322  \n",
       "\n",
       "[4 rows x 21 columns]"
      ]
     },
     "execution_count": 10,
     "metadata": {},
     "output_type": "execute_result"
    }
   ],
   "source": [
    "cv_results = pd.DataFrame(knc_gs.cv_results_)\n",
    "cv_results.sort_values('mean_test_score', ascending=False).head(4)"
   ]
  },
  {
   "cell_type": "code",
   "execution_count": 11,
   "metadata": {},
   "outputs": [
    {
     "data": {
      "text/plain": [
       "KNeighborsClassifier(algorithm='auto', leaf_size=30, metric='minkowski',\n",
       "           metric_params=None, n_jobs=1, n_neighbors=8, p=2,\n",
       "           weights='uniform')"
      ]
     },
     "execution_count": 11,
     "metadata": {},
     "output_type": "execute_result"
    }
   ],
   "source": [
    "knc_gs.best_estimator_"
   ]
  },
  {
   "cell_type": "code",
   "execution_count": 12,
   "metadata": {},
   "outputs": [
    {
     "name": "stdout",
     "output_type": "stream",
     "text": [
      "Confusion matrix:\n",
      "[[905   0]\n",
      " [ 31   0]]\n"
     ]
    }
   ],
   "source": [
    "pred_knc_gs = knc_gs.predict(X_test)\n",
    "\n",
    "confusion_kncgs = confusion_matrix(y_test, pred_knc_gs)\n",
    "print(\"Confusion matrix:\\n{}\".format(confusion_kncgs))"
   ]
  },
  {
   "cell_type": "markdown",
   "metadata": {},
   "source": [
    "### Another Idea"
   ]
  },
  {
   "cell_type": "code",
   "execution_count": 13,
   "metadata": {
    "collapsed": true
   },
   "outputs": [],
   "source": [
    "# LinearSVC !\n",
    "\n",
    "svc_params = {\n",
    "    'C': np.logspace(-3,3,7),\n",
    "    'penalty':['l2','l1'],   \n",
    "}\n",
    "svc_gs = GridSearchCV(LinearSVC(random_state=42, dual=False), param_grid= svc_params, cv=5)\n"
   ]
  },
  {
   "cell_type": "code",
   "execution_count": 14,
   "metadata": {},
   "outputs": [
    {
     "data": {
      "text/plain": [
       "GridSearchCV(cv=5, error_score='raise',\n",
       "       estimator=LinearSVC(C=1.0, class_weight=None, dual=False, fit_intercept=True,\n",
       "     intercept_scaling=1, loss='squared_hinge', max_iter=1000,\n",
       "     multi_class='ovr', penalty='l2', random_state=42, tol=0.0001,\n",
       "     verbose=0),\n",
       "       fit_params=None, iid=True, n_jobs=1,\n",
       "       param_grid={'penalty': ['l2', 'l1'], 'C': array([  1.00000e-03,   1.00000e-02,   1.00000e-01,   1.00000e+00,\n",
       "         1.00000e+01,   1.00000e+02,   1.00000e+03])},\n",
       "       pre_dispatch='2*n_jobs', refit=True, return_train_score='warn',\n",
       "       scoring=None, verbose=0)"
      ]
     },
     "execution_count": 14,
     "metadata": {},
     "output_type": "execute_result"
    }
   ],
   "source": [
    "svc_gs.fit(X_train_scaled, y_train)"
   ]
  },
  {
   "cell_type": "code",
   "execution_count": 15,
   "metadata": {},
   "outputs": [
    {
     "data": {
      "text/html": [
       "<div>\n",
       "<style>\n",
       "    .dataframe thead tr:only-child th {\n",
       "        text-align: right;\n",
       "    }\n",
       "\n",
       "    .dataframe thead th {\n",
       "        text-align: left;\n",
       "    }\n",
       "\n",
       "    .dataframe tbody tr th {\n",
       "        vertical-align: top;\n",
       "    }\n",
       "</style>\n",
       "<table border=\"1\" class=\"dataframe\">\n",
       "  <thead>\n",
       "    <tr style=\"text-align: right;\">\n",
       "      <th></th>\n",
       "      <th>mean_fit_time</th>\n",
       "      <th>mean_score_time</th>\n",
       "      <th>mean_test_score</th>\n",
       "      <th>mean_train_score</th>\n",
       "      <th>param_C</th>\n",
       "      <th>param_penalty</th>\n",
       "      <th>params</th>\n",
       "      <th>rank_test_score</th>\n",
       "      <th>split0_test_score</th>\n",
       "      <th>split0_train_score</th>\n",
       "      <th>...</th>\n",
       "      <th>split2_test_score</th>\n",
       "      <th>split2_train_score</th>\n",
       "      <th>split3_test_score</th>\n",
       "      <th>split3_train_score</th>\n",
       "      <th>split4_test_score</th>\n",
       "      <th>split4_train_score</th>\n",
       "      <th>std_fit_time</th>\n",
       "      <th>std_score_time</th>\n",
       "      <th>std_test_score</th>\n",
       "      <th>std_train_score</th>\n",
       "    </tr>\n",
       "  </thead>\n",
       "  <tbody>\n",
       "    <tr>\n",
       "      <th>6</th>\n",
       "      <td>0.012731</td>\n",
       "      <td>0.000566</td>\n",
       "      <td>0.956293</td>\n",
       "      <td>0.959189</td>\n",
       "      <td>1</td>\n",
       "      <td>l2</td>\n",
       "      <td>{u'penalty': u'l2', u'C': 1.0}</td>\n",
       "      <td>1</td>\n",
       "      <td>0.958005</td>\n",
       "      <td>0.960474</td>\n",
       "      <td>...</td>\n",
       "      <td>0.957895</td>\n",
       "      <td>0.959842</td>\n",
       "      <td>0.952507</td>\n",
       "      <td>0.959211</td>\n",
       "      <td>0.952507</td>\n",
       "      <td>0.959868</td>\n",
       "      <td>0.001436</td>\n",
       "      <td>0.000101</td>\n",
       "      <td>0.003227</td>\n",
       "      <td>0.001379</td>\n",
       "    </tr>\n",
       "    <tr>\n",
       "      <th>9</th>\n",
       "      <td>0.235667</td>\n",
       "      <td>0.000486</td>\n",
       "      <td>0.956293</td>\n",
       "      <td>0.959058</td>\n",
       "      <td>10</td>\n",
       "      <td>l1</td>\n",
       "      <td>{u'penalty': u'l1', u'C': 10.0}</td>\n",
       "      <td>1</td>\n",
       "      <td>0.958005</td>\n",
       "      <td>0.960474</td>\n",
       "      <td>...</td>\n",
       "      <td>0.957895</td>\n",
       "      <td>0.960500</td>\n",
       "      <td>0.952507</td>\n",
       "      <td>0.959211</td>\n",
       "      <td>0.949868</td>\n",
       "      <td>0.959211</td>\n",
       "      <td>0.005120</td>\n",
       "      <td>0.000008</td>\n",
       "      <td>0.004651</td>\n",
       "      <td>0.001683</td>\n",
       "    </tr>\n",
       "    <tr>\n",
       "      <th>4</th>\n",
       "      <td>0.008610</td>\n",
       "      <td>0.000447</td>\n",
       "      <td>0.955766</td>\n",
       "      <td>0.956556</td>\n",
       "      <td>0.1</td>\n",
       "      <td>l2</td>\n",
       "      <td>{u'penalty': u'l2', u'C': 0.1}</td>\n",
       "      <td>3</td>\n",
       "      <td>0.952756</td>\n",
       "      <td>0.955863</td>\n",
       "      <td>...</td>\n",
       "      <td>0.955263</td>\n",
       "      <td>0.957209</td>\n",
       "      <td>0.955145</td>\n",
       "      <td>0.957237</td>\n",
       "      <td>0.957784</td>\n",
       "      <td>0.957237</td>\n",
       "      <td>0.000471</td>\n",
       "      <td>0.000087</td>\n",
       "      <td>0.001914</td>\n",
       "      <td>0.000846</td>\n",
       "    </tr>\n",
       "    <tr>\n",
       "      <th>5</th>\n",
       "      <td>0.032662</td>\n",
       "      <td>0.000464</td>\n",
       "      <td>0.955240</td>\n",
       "      <td>0.955371</td>\n",
       "      <td>0.1</td>\n",
       "      <td>l1</td>\n",
       "      <td>{u'penalty': u'l1', u'C': 0.1}</td>\n",
       "      <td>4</td>\n",
       "      <td>0.952756</td>\n",
       "      <td>0.955863</td>\n",
       "      <td>...</td>\n",
       "      <td>0.952632</td>\n",
       "      <td>0.955892</td>\n",
       "      <td>0.955145</td>\n",
       "      <td>0.955921</td>\n",
       "      <td>0.957784</td>\n",
       "      <td>0.954605</td>\n",
       "      <td>0.007506</td>\n",
       "      <td>0.000015</td>\n",
       "      <td>0.002303</td>\n",
       "      <td>0.000638</td>\n",
       "    </tr>\n",
       "    <tr>\n",
       "      <th>0</th>\n",
       "      <td>0.031127</td>\n",
       "      <td>0.000627</td>\n",
       "      <td>0.954713</td>\n",
       "      <td>0.954713</td>\n",
       "      <td>0.001</td>\n",
       "      <td>l2</td>\n",
       "      <td>{u'penalty': u'l2', u'C': 0.001}</td>\n",
       "      <td>5</td>\n",
       "      <td>0.952756</td>\n",
       "      <td>0.955204</td>\n",
       "      <td>...</td>\n",
       "      <td>0.955263</td>\n",
       "      <td>0.954575</td>\n",
       "      <td>0.955145</td>\n",
       "      <td>0.954605</td>\n",
       "      <td>0.955145</td>\n",
       "      <td>0.954605</td>\n",
       "      <td>0.049116</td>\n",
       "      <td>0.000434</td>\n",
       "      <td>0.000982</td>\n",
       "      <td>0.000246</td>\n",
       "    </tr>\n",
       "    <tr>\n",
       "      <th>1</th>\n",
       "      <td>0.002403</td>\n",
       "      <td>0.000429</td>\n",
       "      <td>0.954713</td>\n",
       "      <td>0.954713</td>\n",
       "      <td>0.001</td>\n",
       "      <td>l1</td>\n",
       "      <td>{u'penalty': u'l1', u'C': 0.001}</td>\n",
       "      <td>5</td>\n",
       "      <td>0.952756</td>\n",
       "      <td>0.955204</td>\n",
       "      <td>...</td>\n",
       "      <td>0.955263</td>\n",
       "      <td>0.954575</td>\n",
       "      <td>0.955145</td>\n",
       "      <td>0.954605</td>\n",
       "      <td>0.955145</td>\n",
       "      <td>0.954605</td>\n",
       "      <td>0.000201</td>\n",
       "      <td>0.000006</td>\n",
       "      <td>0.000982</td>\n",
       "      <td>0.000246</td>\n",
       "    </tr>\n",
       "  </tbody>\n",
       "</table>\n",
       "<p>6 rows × 22 columns</p>\n",
       "</div>"
      ],
      "text/plain": [
       "   mean_fit_time  mean_score_time  mean_test_score  mean_train_score param_C  \\\n",
       "6       0.012731         0.000566         0.956293          0.959189       1   \n",
       "9       0.235667         0.000486         0.956293          0.959058      10   \n",
       "4       0.008610         0.000447         0.955766          0.956556     0.1   \n",
       "5       0.032662         0.000464         0.955240          0.955371     0.1   \n",
       "0       0.031127         0.000627         0.954713          0.954713   0.001   \n",
       "1       0.002403         0.000429         0.954713          0.954713   0.001   \n",
       "\n",
       "  param_penalty                            params  rank_test_score  \\\n",
       "6            l2    {u'penalty': u'l2', u'C': 1.0}                1   \n",
       "9            l1   {u'penalty': u'l1', u'C': 10.0}                1   \n",
       "4            l2    {u'penalty': u'l2', u'C': 0.1}                3   \n",
       "5            l1    {u'penalty': u'l1', u'C': 0.1}                4   \n",
       "0            l2  {u'penalty': u'l2', u'C': 0.001}                5   \n",
       "1            l1  {u'penalty': u'l1', u'C': 0.001}                5   \n",
       "\n",
       "   split0_test_score  split0_train_score       ...         split2_test_score  \\\n",
       "6           0.958005            0.960474       ...                  0.957895   \n",
       "9           0.958005            0.960474       ...                  0.957895   \n",
       "4           0.952756            0.955863       ...                  0.955263   \n",
       "5           0.952756            0.955863       ...                  0.952632   \n",
       "0           0.952756            0.955204       ...                  0.955263   \n",
       "1           0.952756            0.955204       ...                  0.955263   \n",
       "\n",
       "   split2_train_score  split3_test_score  split3_train_score  \\\n",
       "6            0.959842           0.952507            0.959211   \n",
       "9            0.960500           0.952507            0.959211   \n",
       "4            0.957209           0.955145            0.957237   \n",
       "5            0.955892           0.955145            0.955921   \n",
       "0            0.954575           0.955145            0.954605   \n",
       "1            0.954575           0.955145            0.954605   \n",
       "\n",
       "   split4_test_score  split4_train_score  std_fit_time  std_score_time  \\\n",
       "6           0.952507            0.959868      0.001436        0.000101   \n",
       "9           0.949868            0.959211      0.005120        0.000008   \n",
       "4           0.957784            0.957237      0.000471        0.000087   \n",
       "5           0.957784            0.954605      0.007506        0.000015   \n",
       "0           0.955145            0.954605      0.049116        0.000434   \n",
       "1           0.955145            0.954605      0.000201        0.000006   \n",
       "\n",
       "   std_test_score  std_train_score  \n",
       "6        0.003227         0.001379  \n",
       "9        0.004651         0.001683  \n",
       "4        0.001914         0.000846  \n",
       "5        0.002303         0.000638  \n",
       "0        0.000982         0.000246  \n",
       "1        0.000982         0.000246  \n",
       "\n",
       "[6 rows x 22 columns]"
      ]
     },
     "execution_count": 15,
     "metadata": {},
     "output_type": "execute_result"
    }
   ],
   "source": [
    "cv2_results = pd.DataFrame(svc_gs.cv_results_)\n",
    "cv2_results.sort_values('mean_test_score', ascending=False).head(6)"
   ]
  },
  {
   "cell_type": "code",
   "execution_count": 16,
   "metadata": {},
   "outputs": [
    {
     "data": {
      "text/plain": [
       "LinearSVC(C=1.0, class_weight=None, dual=False, fit_intercept=True,\n",
       "     intercept_scaling=1, loss='squared_hinge', max_iter=1000,\n",
       "     multi_class='ovr', penalty='l2', random_state=42, tol=0.0001,\n",
       "     verbose=0)"
      ]
     },
     "execution_count": 16,
     "metadata": {},
     "output_type": "execute_result"
    }
   ],
   "source": [
    "svc_gs.best_estimator_"
   ]
  },
  {
   "cell_type": "code",
   "execution_count": 17,
   "metadata": {},
   "outputs": [
    {
     "name": "stdout",
     "output_type": "stream",
     "text": [
      "Confusion matrix:\n",
      "[[ 88 817]\n",
      " [  1  30]]\n"
     ]
    }
   ],
   "source": [
    "pred_svc_gs = svc_gs.predict(X_test)\n",
    "\n",
    "confusion = confusion_matrix(y_test, pred_svc_gs)\n",
    "print(\"Confusion matrix:\\n{}\".format(confusion))"
   ]
  },
  {
   "cell_type": "markdown",
   "metadata": {
    "collapsed": true
   },
   "source": [
    "### Ensemble ...\n",
    "* Pipeline with Random Forest"
   ]
  },
  {
   "cell_type": "code",
   "execution_count": 18,
   "metadata": {
    "collapsed": true
   },
   "outputs": [],
   "source": [
    "rf_pipe = Pipeline([\n",
    "    ('scaler',StandardScaler()),\n",
    "    ('reg',RandomForestRegressor())\n",
    "])"
   ]
  },
  {
   "cell_type": "code",
   "execution_count": 19,
   "metadata": {
    "collapsed": true
   },
   "outputs": [],
   "source": [
    "rf_params = {\n",
    "    'reg__n_estimators':range(50,225, 25),\n",
    "    'reg__max_depth':[1,5,10,15,20,None]\n",
    "}"
   ]
  },
  {
   "cell_type": "code",
   "execution_count": 20,
   "metadata": {
    "collapsed": true
   },
   "outputs": [],
   "source": [
    "rf_gs = GridSearchCV(rf_pipe, rf_params, cv=ShuffleSplit(5))"
   ]
  },
  {
   "cell_type": "code",
   "execution_count": 21,
   "metadata": {},
   "outputs": [
    {
     "data": {
      "text/plain": [
       "GridSearchCV(cv=ShuffleSplit(n_splits=5, random_state=None, test_size='default',\n",
       "       train_size=None),\n",
       "       error_score='raise',\n",
       "       estimator=Pipeline(memory=None,\n",
       "     steps=[('scaler', StandardScaler(copy=True, with_mean=True, with_std=True)), ('reg', RandomForestRegressor(bootstrap=True, criterion='mse', max_depth=None,\n",
       "           max_features='auto', max_leaf_nodes=None,\n",
       "           min_impurity_decrease=0.0, min_impurity_spl...imators=10, n_jobs=1,\n",
       "           oob_score=False, random_state=None, verbose=0, warm_start=False))]),\n",
       "       fit_params=None, iid=True, n_jobs=1,\n",
       "       param_grid={'reg__max_depth': [1, 5, 10, 15, 20, None], 'reg__n_estimators': [50, 75, 100, 125, 150, 175, 200]},\n",
       "       pre_dispatch='2*n_jobs', refit=True, return_train_score='warn',\n",
       "       scoring=None, verbose=0)"
      ]
     },
     "execution_count": 21,
     "metadata": {},
     "output_type": "execute_result"
    }
   ],
   "source": [
    "rf_gs.fit(X_train, y_train)"
   ]
  },
  {
   "cell_type": "code",
   "execution_count": 22,
   "metadata": {},
   "outputs": [
    {
     "data": {
      "text/plain": [
       "(0.49696165158127265, 0.084962298699384875)"
      ]
     },
     "execution_count": 22,
     "metadata": {},
     "output_type": "execute_result"
    }
   ],
   "source": [
    "rf_gs.score(X_train, y_train), rf_gs.score(X_test, y_test)"
   ]
  },
  {
   "cell_type": "code",
   "execution_count": 23,
   "metadata": {},
   "outputs": [
    {
     "data": {
      "text/plain": [
       "0.098121753220302282"
      ]
     },
     "execution_count": 23,
     "metadata": {},
     "output_type": "execute_result"
    }
   ],
   "source": [
    "rf_gs.best_score_"
   ]
  },
  {
   "cell_type": "code",
   "execution_count": 24,
   "metadata": {},
   "outputs": [
    {
     "data": {
      "text/plain": [
       "Pipeline(memory=None,\n",
       "     steps=[('scaler', StandardScaler(copy=True, with_mean=True, with_std=True)), ('reg', RandomForestRegressor(bootstrap=True, criterion='mse', max_depth=5,\n",
       "           max_features='auto', max_leaf_nodes=None,\n",
       "           min_impurity_decrease=0.0, min_impurity_split=None,\n",
       "           min_samples_leaf=1, min_samples_split=2,\n",
       "           min_weight_fraction_leaf=0.0, n_estimators=150, n_jobs=1,\n",
       "           oob_score=False, random_state=None, verbose=0, warm_start=False))])"
      ]
     },
     "execution_count": 24,
     "metadata": {},
     "output_type": "execute_result"
    }
   ],
   "source": [
    "rf_gs.best_estimator_"
   ]
  },
  {
   "cell_type": "code",
   "execution_count": 25,
   "metadata": {
    "collapsed": true
   },
   "outputs": [],
   "source": [
    "rf_results = pd.DataFrame(rf_gs.cv_results_)"
   ]
  },
  {
   "cell_type": "code",
   "execution_count": 26,
   "metadata": {},
   "outputs": [
    {
     "data": {
      "text/plain": [
       "<matplotlib.legend.Legend at 0x10eadcc90>"
      ]
     },
     "execution_count": 26,
     "metadata": {},
     "output_type": "execute_result"
    },
    {
     "data": {
      "image/png": "[encoded data removed]",
      "text/plain": [
       "<matplotlib.figure.Figure at 0x10eadc790>"
      ]
     },
     "metadata": {},
     "output_type": "display_data"
    }
   ],
   "source": [
    "plt.figure(figsize=(10,8))\n",
    "for n_est in rf_results.param_reg__n_estimators.unique():\n",
    "    df = rf_results[rf_results.param_reg__n_estimators == n_est]\n",
    "    plt.plot(df['param_reg__max_depth'],df['mean_test_score'], label = '{} estimators'.format(n_est))\n",
    "plt.xlabel('Max depth')\n",
    "plt.ylabel('Mean test score')\n",
    "plt.legend()"
   ]
  },
  {
   "cell_type": "code",
   "execution_count": 27,
   "metadata": {
    "collapsed": true
   },
   "outputs": [],
   "source": [
    "feat_importances = rf_gs.best_estimator_.named_steps['reg'].feature_importances_\n",
    "cols_and_imps = list(zip(X.columns, feat_importances))\n",
    "cols_and_imps.sort(key=lambda x:x[1], reverse=True)"
   ]
  },
  {
   "cell_type": "code",
   "execution_count": 28,
   "metadata": {},
   "outputs": [
    {
     "data": {
      "text/html": [
       "<div>\n",
       "<style>\n",
       "    .dataframe thead tr:only-child th {\n",
       "        text-align: right;\n",
       "    }\n",
       "\n",
       "    .dataframe thead th {\n",
       "        text-align: left;\n",
       "    }\n",
       "\n",
       "    .dataframe tbody tr th {\n",
       "        vertical-align: top;\n",
       "    }\n",
       "</style>\n",
       "<table border=\"1\" class=\"dataframe\">\n",
       "  <thead>\n",
       "    <tr style=\"text-align: right;\">\n",
       "      <th></th>\n",
       "      <th>column</th>\n",
       "      <th>importance</th>\n",
       "    </tr>\n",
       "  </thead>\n",
       "  <tbody>\n",
       "    <tr>\n",
       "      <th>0</th>\n",
       "      <td>RA</td>\n",
       "      <td>0.154967</td>\n",
       "    </tr>\n",
       "    <tr>\n",
       "      <th>1</th>\n",
       "      <td>SHO</td>\n",
       "      <td>0.120631</td>\n",
       "    </tr>\n",
       "    <tr>\n",
       "      <th>2</th>\n",
       "      <td>R</td>\n",
       "      <td>0.072514</td>\n",
       "    </tr>\n",
       "    <tr>\n",
       "      <th>3</th>\n",
       "      <td>ERA</td>\n",
       "      <td>0.045770</td>\n",
       "    </tr>\n",
       "    <tr>\n",
       "      <th>4</th>\n",
       "      <td>SB</td>\n",
       "      <td>0.042883</td>\n",
       "    </tr>\n",
       "    <tr>\n",
       "      <th>5</th>\n",
       "      <td>BBA</td>\n",
       "      <td>0.042579</td>\n",
       "    </tr>\n",
       "    <tr>\n",
       "      <th>6</th>\n",
       "      <td>attendance</td>\n",
       "      <td>0.032668</td>\n",
       "    </tr>\n",
       "    <tr>\n",
       "      <th>7</th>\n",
       "      <td>SV</td>\n",
       "      <td>0.032578</td>\n",
       "    </tr>\n",
       "    <tr>\n",
       "      <th>8</th>\n",
       "      <td>ER</td>\n",
       "      <td>0.030306</td>\n",
       "    </tr>\n",
       "    <tr>\n",
       "      <th>9</th>\n",
       "      <td>OBP</td>\n",
       "      <td>0.029472</td>\n",
       "    </tr>\n",
       "  </tbody>\n",
       "</table>\n",
       "</div>"
      ],
      "text/plain": [
       "       column  importance\n",
       "0          RA    0.154967\n",
       "1         SHO    0.120631\n",
       "2           R    0.072514\n",
       "3         ERA    0.045770\n",
       "4          SB    0.042883\n",
       "5         BBA    0.042579\n",
       "6  attendance    0.032668\n",
       "7          SV    0.032578\n",
       "8          ER    0.030306\n",
       "9         OBP    0.029472"
      ]
     },
     "execution_count": 28,
     "metadata": {},
     "output_type": "execute_result"
    }
   ],
   "source": [
    "feat_imp_df = pd.DataFrame(cols_and_imps)\n",
    "feat_imp_df.rename(columns={1:'importance',0:'column'}, inplace=True)\n",
    "feat_imp_df.head(10)"
   ]
  },
  {
   "cell_type": "code",
   "execution_count": 29,
   "metadata": {},
   "outputs": [
    {
     "data": {
      "text/plain": [
       "<matplotlib.axes._subplots.AxesSubplot at 0x10eba0890>"
      ]
     },
     "execution_count": 29,
     "metadata": {},
     "output_type": "execute_result"
    },
    {
     "data": {
      "image/png": "[encoded data removed]",
      "text/plain": [
       "<matplotlib.figure.Figure at 0x10eb74710>"
      ]
     },
     "metadata": {},
     "output_type": "display_data"
    }
   ],
   "source": [
    "feat_imp_df.plot.bar('column','importance', figsize=(10,8))"
   ]
  },
  {
   "cell_type": "markdown",
   "metadata": {},
   "source": [
    "### Random Forest Pipeline top 5 Results:\n",
    "* RA: Runs Allowed.\n",
    "* SHO: Shutouts\n",
    "* R: Runs scored.\n",
    "* ERA: Earned Run Average.\n",
    "* BBA: Walks Allowed.\n",
    "\n"
   ]
  },
  {
   "cell_type": "markdown",
   "metadata": {
    "collapsed": true
   },
   "source": [
    "### Adaboost for a better ensemble..."
   ]
  },
  {
   "cell_type": "code",
   "execution_count": 30,
   "metadata": {},
   "outputs": [
    {
     "data": {
      "text/plain": [
       "AdaBoostClassifier(algorithm='SAMME.R',\n",
       "          base_estimator=DecisionTreeClassifier(class_weight=None, criterion='gini', max_depth=1,\n",
       "            max_features='auto', max_leaf_nodes=None,\n",
       "            min_impurity_decrease=0.0, min_impurity_split=None,\n",
       "            min_samples_leaf=1, min_samples_split=2,\n",
       "            min_weight_fraction_leaf=0.0, presort=False, random_state=None,\n",
       "            splitter='best'),\n",
       "          learning_rate=0.55, n_estimators=250, random_state=42)"
      ]
     },
     "execution_count": 30,
     "metadata": {},
     "output_type": "execute_result"
    }
   ],
   "source": [
    "adaboost = AdaBoostClassifier(DecisionTreeClassifier(max_depth=1, max_features='auto'), n_estimators=250, learning_rate=.55, random_state=42)\n",
    "adaboost.fit(X_train, y_train)"
   ]
  },
  {
   "cell_type": "code",
   "execution_count": 31,
   "metadata": {},
   "outputs": [
    {
     "data": {
      "text/plain": [
       "(0.99262769878883628, 0.95726495726495731)"
      ]
     },
     "execution_count": 31,
     "metadata": {},
     "output_type": "execute_result"
    }
   ],
   "source": [
    "adaboost.score(X_train, y_train), adaboost.score(X_test, y_test)"
   ]
  },
  {
   "cell_type": "code",
   "execution_count": 32,
   "metadata": {},
   "outputs": [
    {
     "data": {
      "text/plain": [
       "array([[893,  12],\n",
       "       [ 28,   3]])"
      ]
     },
     "execution_count": 32,
     "metadata": {},
     "output_type": "execute_result"
    }
   ],
   "source": [
    "confusion_matrix(y_test, adaboost.predict(X_test))"
   ]
  },
  {
   "cell_type": "code",
   "execution_count": 33,
   "metadata": {},
   "outputs": [
    {
     "data": {
      "text/plain": [
       "[<matplotlib.lines.Line2D at 0x103cdd410>]"
      ]
     },
     "execution_count": 33,
     "metadata": {},
     "output_type": "execute_result"
    },
    {
     "data": {
      "image/png": "[encoded data removed]",
      "text/plain": [
       "<matplotlib.figure.Figure at 0x10ef55890>"
      ]
     },
     "metadata": {},
     "output_type": "display_data"
    }
   ],
   "source": [
    "preds = adaboost.staged_predict(X_train)\n",
    "\n",
    "acc = [accuracy_score(y_train, y_pred) for y_pred in preds]\n",
    "\n",
    "plt.plot(acc)"
   ]
  },
  {
   "cell_type": "code",
   "execution_count": 34,
   "metadata": {
    "collapsed": true
   },
   "outputs": [],
   "source": [
    "adaboost_feat = adaboost.feature_importances_\n",
    "name_col = list(zip(X.columns, adaboost_feat))\n",
    "name_col.sort(key=lambda x:x[1], reverse=True)"
   ]
  },
  {
   "cell_type": "code",
   "execution_count": 35,
   "metadata": {},
   "outputs": [
    {
     "data": {
      "text/html": [
       "<div>\n",
       "<style>\n",
       "    .dataframe thead tr:only-child th {\n",
       "        text-align: right;\n",
       "    }\n",
       "\n",
       "    .dataframe thead th {\n",
       "        text-align: left;\n",
       "    }\n",
       "\n",
       "    .dataframe tbody tr th {\n",
       "        vertical-align: top;\n",
       "    }\n",
       "</style>\n",
       "<table border=\"1\" class=\"dataframe\">\n",
       "  <thead>\n",
       "    <tr style=\"text-align: right;\">\n",
       "      <th></th>\n",
       "      <th>column</th>\n",
       "      <th>importance</th>\n",
       "    </tr>\n",
       "  </thead>\n",
       "  <tbody>\n",
       "    <tr>\n",
       "      <th>0</th>\n",
       "      <td>R</td>\n",
       "      <td>0.072</td>\n",
       "    </tr>\n",
       "    <tr>\n",
       "      <th>1</th>\n",
       "      <td>attendance</td>\n",
       "      <td>0.068</td>\n",
       "    </tr>\n",
       "    <tr>\n",
       "      <th>2</th>\n",
       "      <td>ER</td>\n",
       "      <td>0.056</td>\n",
       "    </tr>\n",
       "    <tr>\n",
       "      <th>3</th>\n",
       "      <td>RA</td>\n",
       "      <td>0.052</td>\n",
       "    </tr>\n",
       "    <tr>\n",
       "      <th>4</th>\n",
       "      <td>2B</td>\n",
       "      <td>0.048</td>\n",
       "    </tr>\n",
       "    <tr>\n",
       "      <th>5</th>\n",
       "      <td>SO</td>\n",
       "      <td>0.044</td>\n",
       "    </tr>\n",
       "    <tr>\n",
       "      <th>6</th>\n",
       "      <td>SOA</td>\n",
       "      <td>0.040</td>\n",
       "    </tr>\n",
       "    <tr>\n",
       "      <th>7</th>\n",
       "      <td>yearID</td>\n",
       "      <td>0.032</td>\n",
       "    </tr>\n",
       "    <tr>\n",
       "      <th>8</th>\n",
       "      <td>H</td>\n",
       "      <td>0.032</td>\n",
       "    </tr>\n",
       "    <tr>\n",
       "      <th>9</th>\n",
       "      <td>ERA</td>\n",
       "      <td>0.032</td>\n",
       "    </tr>\n",
       "  </tbody>\n",
       "</table>\n",
       "</div>"
      ],
      "text/plain": [
       "       column  importance\n",
       "0           R       0.072\n",
       "1  attendance       0.068\n",
       "2          ER       0.056\n",
       "3          RA       0.052\n",
       "4          2B       0.048\n",
       "5          SO       0.044\n",
       "6         SOA       0.040\n",
       "7      yearID       0.032\n",
       "8           H       0.032\n",
       "9         ERA       0.032"
      ]
     },
     "execution_count": 35,
     "metadata": {},
     "output_type": "execute_result"
    }
   ],
   "source": [
    "ada_feat_imp_df = pd.DataFrame(name_col)\n",
    "ada_feat_imp_df.rename(columns={1:'importance',0:'column'}, inplace=True)\n",
    "ada_feat_imp_df.head(10)"
   ]
  },
  {
   "cell_type": "code",
   "execution_count": 36,
   "metadata": {},
   "outputs": [
    {
     "data": {
      "text/plain": [
       "<matplotlib.axes._subplots.AxesSubplot at 0x1097ecbd0>"
      ]
     },
     "execution_count": 36,
     "metadata": {},
     "output_type": "execute_result"
    },
    {
     "data": {
      "image/png": "[encoded data removed]",
      "text/plain": [
       "<matplotlib.figure.Figure at 0x10eb741d0>"
      ]
     },
     "metadata": {},
     "output_type": "display_data"
    }
   ],
   "source": [
    "ada_feat_imp_df.plot.bar('column','importance', figsize=(10,8))"
   ]
  },
  {
   "cell_type": "markdown",
   "metadata": {
    "collapsed": true
   },
   "source": [
    "### AdaBoost top 5 Results:\n",
    "* R: Runs scored.\n",
    "* Attendance: Might have to do with team budget.\n",
    "* ER: Earned Runs.\n",
    "* RA: Runs Allowed.\n",
    "* 2B: Doubles.\n"
   ]
  },
  {
   "cell_type": "code",
   "execution_count": 40,
   "metadata": {},
   "outputs": [
    {
     "name": "stdout",
     "output_type": "stream",
     "text": [
      "Logistic Regression pipeline test accuracy: 0.967\n",
      "Support Vector Machine pipeline test accuracy: 0.967\n",
      "Decision Tree pipeline test accuracy: 0.925\n",
      "KNN pipeline test accuracy: 0.968\n",
      "Classifier with best accuracy: KNN\n"
     ]
    }
   ],
   "source": [
    "### More Pipes\n",
    "\n",
    "# Construct some pipelines\n",
    "pipe_lr = Pipeline([('scl', StandardScaler()),\n",
    "\t\t\t('pca', PCA(n_components=2)),\n",
    "\t\t\t('clf', LogisticRegression(random_state=42))])\n",
    "\n",
    "pipe_svm = Pipeline([('scl', StandardScaler()),\n",
    "\t\t\t('pca', PCA(n_components=2)),\n",
    "\t\t\t('clf', svm.SVC(random_state=42))])\n",
    "\t\t\t\n",
    "pipe_dt = Pipeline([('scl', StandardScaler()),\n",
    "\t\t\t('pca', PCA(n_components=2)),\n",
    "\t\t\t('clf', DecisionTreeClassifier(random_state=42))])\n",
    "pipe_knn = Pipeline([('scl', StandardScaler()),\n",
    "\t\t\t('pca', PCA(n_components=2)),\n",
    "\t\t\t('clf', KNeighborsClassifier())])\n",
    "\n",
    "# List of pipelines for ease of iteration\n",
    "pipelines = [pipe_lr, pipe_svm, pipe_dt, pipe_knn]\n",
    "\t\t\t\n",
    "# Dictionary of pipelines and classifier types for ease of reference\n",
    "pipe_dict = {0: 'Logistic Regression', 1: 'Support Vector Machine', 2: 'Decision Tree', 3:  'KNN'}\n",
    "\n",
    "# Fit the pipelines\n",
    "for pipe in pipelines:\n",
    "\tpipe.fit(X_train, y_train)\n",
    "\n",
    "# Compare accuracies\n",
    "for idx, val in enumerate(pipelines):\n",
    "\tprint('%s pipeline test accuracy: %.3f' % (pipe_dict[idx], val.score(X_test, y_test)))\n",
    "\n",
    "# Identify the most accurate model on test data\n",
    "best_acc = 0.0\n",
    "best_clf = 0\n",
    "best_pipe = ''\n",
    "for idx, val in enumerate(pipelines):\n",
    "\tif val.score(X_test, y_test) > best_acc:\n",
    "\t\tbest_acc = val.score(X_test, y_test)\n",
    "\t\tbest_pipe = val\n",
    "\t\tbest_clf = idx\n",
    "print('Classifier with best accuracy: %s' % pipe_dict[best_clf])\n",
    "\n"
   ]
  },
  {
   "cell_type": "code",
   "execution_count": 49,
   "metadata": {},
   "outputs": [
    {
     "name": "stdout",
     "output_type": "stream",
     "text": [
      "Best accuracy: 0.955\n",
      "Best params: {'clf__n_neighbors': 4, 'clf__leaf_size': 1}\n"
     ]
    }
   ],
   "source": [
    "pipe = Pipeline([('scl', StandardScaler()),\n",
    "\t\t\t('pca', PCA(n_components=2)),\n",
    "\t\t\t('clf', KNeighborsClassifier())])\n",
    "\n",
    "param_range = [1, 2, 3, 4, 5, 6, 7]\n",
    "leaf_range = [1, 2, 3, 4, 5, 6, 7, 10, 15, 20, 30]\n",
    "\n",
    "# Set grid search params\n",
    "grid_params = [{\n",
    "\t\t'clf__n_neighbors': param_range,\n",
    "        'clf__leaf_size': leaf_range,\n",
    "\t\t}]\n",
    "\n",
    "# Construct grid search\n",
    "gs = GridSearchCV(estimator=pipe,\n",
    "\t\t\tparam_grid=grid_params,\n",
    "\t\t\tscoring='accuracy',\n",
    "\t\t\tcv=10)\n",
    "\n",
    "# Fit using grid search\n",
    "gs.fit(X_train, y_train)\n",
    "\n",
    "# Best accuracy\n",
    "print('Best accuracy: %.3f' % gs.best_score_)\n",
    "\n",
    "# Best params\n",
    "print 'Best params:', gs.best_params_"
   ]
  },
  {
   "cell_type": "code",
   "execution_count": 50,
   "metadata": {},
   "outputs": [
    {
     "name": "stdout",
     "output_type": "stream",
     "text": [
      "Confusion matrix:\n",
      "[[905   0]\n",
      " [ 31   0]]\n"
     ]
    }
   ],
   "source": [
    "pred_gs = gs.predict(X_test)\n",
    "\n",
    "confusion_gs = confusion_matrix(y_test, pred_gs)\n",
    "print(\"Confusion matrix:\\n{}\".format(confusion_gs))"
   ]
  },
  {
   "cell_type": "code",
   "execution_count": null,
   "metadata": {
    "collapsed": true
   },
   "outputs": [],
   "source": []
  }
 ],
 "metadata": {
  "kernelspec": {
   "display_name": "Python [default]",
   "language": "python",
   "name": "python2"
  },
  "language_info": {
   "codemirror_mode": {
    "name": "ipython",
    "version": 2
   },
   "file_extension": ".py",
   "mimetype": "text/x-python",
   "name": "python",
   "nbconvert_exporter": "python",
   "pygments_lexer": "ipython2",
   "version": "2.7.14"
  }
 },
 "nbformat": 4,
 "nbformat_minor": 2
}
