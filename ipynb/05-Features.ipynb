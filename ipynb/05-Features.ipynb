{
 "cells": [
  {
   "cell_type": "markdown",
   "metadata": {},
   "source": [
    "![CharlieBlackmonHR](http://www.denverpost.com/wp-content/uploads/2017/04/denverpost-com-671311704.jpg?w=525 \"Charlie Blackmon home run\")"
   ]
  },
  {
   "cell_type": "markdown",
   "metadata": {},
   "source": [
    "### What features do we want?"
   ]
  },
  {
   "cell_type": "code",
   "execution_count": 1,
   "metadata": {},
   "outputs": [
    {
     "name": "stdout",
     "output_type": "stream",
     "text": [
      "/Users/johnphillips/Desktop/DSI-Class-Stuff/BaseBall\n"
     ]
    }
   ],
   "source": [
    "cd .."
   ]
  },
  {
   "cell_type": "code",
   "execution_count": 2,
   "metadata": {
    "collapsed": true
   },
   "outputs": [],
   "source": [
    "%matplotlib inline"
   ]
  },
  {
   "cell_type": "code",
   "execution_count": 3,
   "metadata": {
    "collapsed": true
   },
   "outputs": [],
   "source": [
    "%run __init__.py"
   ]
  },
  {
   "cell_type": "code",
   "execution_count": 4,
   "metadata": {
    "collapsed": true
   },
   "outputs": [],
   "source": [
    "# Start with reading the data from the pickle\n",
    "teams = pd.read_pickle('data/teams.p')"
   ]
  },
  {
   "cell_type": "code",
   "execution_count": 5,
   "metadata": {},
   "outputs": [
    {
     "data": {
      "text/plain": [
       "Index([u'yearID', u'G', u'Ghome', u'W', u'L', u'LgWin', u'WSWin', u'R', u'AB',\n",
       "       u'H', u'2B', u'3B', u'HR', u'BB', u'SO', u'SB', u'CS', u'HBP', u'SF',\n",
       "       u'RA', u'ER', u'ERA', u'CG', u'SHO', u'SV', u'IPouts', u'HA', u'HRA',\n",
       "       u'BBA', u'SOA', u'E', u'DP', u'FP', u'attendance', u'BPF', u'PPF',\n",
       "       u'BA', u'OBP', u'SLG', u'OPS', u'WinP'],\n",
       "      dtype='object')"
      ]
     },
     "execution_count": 5,
     "metadata": {},
     "output_type": "execute_result"
    }
   ],
   "source": [
    "# Separate the Numeric Columns:\n",
    "\n",
    "teams_num = teams.select_dtypes(exclude=['object', 'category'])\n",
    "teams_num.columns"
   ]
  },
  {
   "cell_type": "markdown",
   "metadata": {
    "collapsed": true
   },
   "source": [
    "### Separate X and y "
   ]
  },
  {
   "cell_type": "code",
   "execution_count": 6,
   "metadata": {
    "collapsed": true
   },
   "outputs": [],
   "source": [
    "# Had to also drop Wins, Losses, and WinP since those are direct indicators.\n",
    "# And they are not part of a players individual stats.\n",
    "X = teams_num.drop(['WSWin', 'LgWin', 'W', 'L', 'WinP'], axis=1) \n",
    "\n",
    "# Make a y2 based upon Winning Leage Series, for possible second model.\n",
    "y = teams_num['WSWin']\n",
    "y2 = teams_num['LgWin'] "
   ]
  },
  {
   "cell_type": "code",
   "execution_count": 7,
   "metadata": {
    "collapsed": true
   },
   "outputs": [],
   "source": [
    "# Train-test split our data...\n",
    "\n",
    "# Standard split:\n",
    "X_train, X_test, y_train, y_test = train_test_split(X, y, random_state = 42, test_size=0.5)\n",
    "\n",
    "# Second split based upon LgWin target:\n",
    "X2_train, X2_test, y2_train, y2_test = train_test_split(X, y2, random_state = 42, test_size=0.5)"
   ]
  },
  {
   "cell_type": "markdown",
   "metadata": {
    "collapsed": true
   },
   "source": [
    "### Recursive Feature Elimination with Logistic Regression to find some features"
   ]
  },
  {
   "cell_type": "code",
   "execution_count": 8,
   "metadata": {
    "collapsed": true
   },
   "outputs": [],
   "source": [
    "rfe = RFE(LogisticRegression(C=0.1, random_state=42), n_features_to_select=5, step=1, verbose=0)\n",
    "scaler = StandardScaler()\n",
    "X_train_scaled = scaler.fit_transform(X_train)\n",
    "X_test_scaled = scaler.transform(X_test)"
   ]
  },
  {
   "cell_type": "code",
   "execution_count": 9,
   "metadata": {
    "collapsed": true
   },
   "outputs": [],
   "source": [
    "# Second Setup with League Champ as target.\n",
    "rfe2 = RFE(LogisticRegression(C=0.1, random_state=42), n_features_to_select=5, step=1, verbose=0, )\n",
    "scaler2 = StandardScaler()\n",
    "X2_train_scaled = scaler2.fit_transform(X2_train)\n",
    "X2_test_scaled = scaler2.transform(X2_test)"
   ]
  },
  {
   "cell_type": "code",
   "execution_count": 10,
   "metadata": {},
   "outputs": [
    {
     "data": {
      "text/plain": [
       "RFE(estimator=LogisticRegression(C=0.1, class_weight=None, dual=False, fit_intercept=True,\n",
       "          intercept_scaling=1, max_iter=100, multi_class='ovr', n_jobs=1,\n",
       "          penalty='l2', random_state=42, solver='liblinear', tol=0.0001,\n",
       "          verbose=0, warm_start=False),\n",
       "  n_features_to_select=5, step=1, verbose=0)"
      ]
     },
     "execution_count": 10,
     "metadata": {},
     "output_type": "execute_result"
    }
   ],
   "source": [
    "rfe.fit(X_train_scaled, y_train)\n",
    "rfe2.fit(X2_train_scaled, y2_train)"
   ]
  },
  {
   "cell_type": "code",
   "execution_count": 11,
   "metadata": {},
   "outputs": [
    {
     "name": "stdout",
     "output_type": "stream",
     "text": [
      "('The WS features are :', array([ 3, 15, 17, 19, 35]))\n",
      "('The LS features are :', array([ 3, 15, 17, 31, 35]))\n"
     ]
    }
   ],
   "source": [
    "# Print the feature columns...\n",
    "rfe_feats = np.where(rfe.get_support())[0]\n",
    "print(\"The WS features are :\", rfe_feats)\n",
    "\n",
    "rfe2_feats = np.where(rfe2.get_support())[0]\n",
    "print(\"The LS features are :\", rfe2_feats)"
   ]
  },
  {
   "cell_type": "code",
   "execution_count": 12,
   "metadata": {},
   "outputs": [
    {
     "name": "stdout",
     "output_type": "stream",
     "text": [
      "The RFE score is : 0.95\n",
      "The RFE score is : 0.92\n"
     ]
    }
   ],
   "source": [
    "print(\"The RFE score is : {:.2f}\".format(rfe.score(X_train_scaled, y_train)))\n",
    "print(\"The RFE score is : {:.2f}\".format(rfe2.score(X2_train_scaled, y2_train)))"
   ]
  },
  {
   "cell_type": "code",
   "execution_count": 13,
   "metadata": {},
   "outputs": [
    {
     "data": {
      "text/plain": [
       "('R', 'RA', 'ERA', 'SHO', 'OPS')"
      ]
     },
     "execution_count": 13,
     "metadata": {},
     "output_type": "execute_result"
    }
   ],
   "source": [
    "X.columns[3], X.columns[15], X.columns[17], X.columns[19], X.columns[35]"
   ]
  },
  {
   "cell_type": "code",
   "execution_count": 14,
   "metadata": {},
   "outputs": [
    {
     "data": {
      "text/plain": [
       "('R', 'RA', 'ERA', 'PPF', 'OPS')"
      ]
     },
     "execution_count": 14,
     "metadata": {},
     "output_type": "execute_result"
    }
   ],
   "source": [
    "X.columns[3], X.columns[15], X.columns[17], X.columns[31], X.columns[35]"
   ]
  },
  {
   "cell_type": "markdown",
   "metadata": {},
   "source": [
    "### Different Features:\n",
    "Interesting that the features are slightly different for the two different targets.\n",
    "\n",
    "For the World Series Win target, the top features are:\n",
    "* R: Runs; \n",
    "* RA: Opponents Runs Scored; \n",
    "* ERA: Earned Run Average; \n",
    "* SHO: Shutouts; \n",
    "* OPS: On base Plus Slugging percentage.\n",
    "\n",
    "For the League Champion Win target, the top features are:\n",
    "* R: Runs; \n",
    "* RA: Opponents Runs Scored; \n",
    "* ERA: Earned Run Average; \n",
    "* PPF: 3 year park factor for pitchers;\n",
    "* OPS: On base Plus Slugging percentage."
   ]
  },
  {
   "cell_type": "code",
   "execution_count": 15,
   "metadata": {},
   "outputs": [
    {
     "data": {
      "text/plain": [
       "<matplotlib.axes._subplots.AxesSubplot at 0x10bf97f50>"
      ]
     },
     "execution_count": 15,
     "metadata": {},
     "output_type": "execute_result"
    },
    {
     "data": {
      "image/png": "[encoded data removed]",
      "text/plain": [
       "<matplotlib.figure.Figure at 0x10bf55450>"
      ]
     },
     "metadata": {},
     "output_type": "display_data"
    }
   ],
   "source": [
    "# Show correlation of each feature from WSWin target.\n",
    "ws_cols = teams_num[['R', 'RA', 'ERA', 'SHO', 'OPS']]\n",
    "\n",
    "# Heatmap it!\n",
    "sns.heatmap(ws_cols.corr(), annot=True, cmap='Blues')"
   ]
  },
  {
   "cell_type": "code",
   "execution_count": 16,
   "metadata": {},
   "outputs": [
    {
     "data": {
      "text/plain": [
       "<matplotlib.axes._subplots.AxesSubplot at 0x1a11bc00d0>"
      ]
     },
     "execution_count": 16,
     "metadata": {},
     "output_type": "execute_result"
    },
    {
     "data": {
      "image/png": "[encoded data removed]",
      "text/plain": [
       "<matplotlib.figure.Figure at 0x10b9af050>"
      ]
     },
     "metadata": {},
     "output_type": "display_data"
    }
   ],
   "source": [
    "# Show correlation of each feature from LgWin target\n",
    "ls_cols = teams_num[['R', 'RA', 'ERA', 'PPF', 'OPS']]\n",
    "\n",
    "# Heatmap it!\n",
    "sns.heatmap(ls_cols.corr(), annot=True, cmap='RdBu_r')"
   ]
  },
  {
   "cell_type": "code",
   "execution_count": 17,
   "metadata": {},
   "outputs": [
    {
     "data": {
      "text/plain": [
       "<matplotlib.axes._subplots.AxesSubplot at 0x1a11c4e0d0>"
      ]
     },
     "execution_count": 17,
     "metadata": {},
     "output_type": "execute_result"
    },
    {
     "data": {
      "image/png": "[encoded data removed]",
      "text/plain": [
       "<matplotlib.figure.Figure at 0x10616ddd0>"
      ]
     },
     "metadata": {},
     "output_type": "display_data"
    }
   ],
   "source": [
    "# Let's put all 6 features in one Heatmap:\n",
    "\n",
    "# Show correlation of each feature from WSWin target.\n",
    "six_cols = teams_num[['R', 'RA', 'ERA', 'SHO', 'PPF', 'OPS']]\n",
    "\n",
    "# Heatmap it!\n",
    "fig = plt.figure(figsize=(9,9))\n",
    "sns.heatmap(six_cols.corr(), annot=True, cmap='BrBG_r')\n",
    "# Changed cmap to \"diverging\" class, so we want to look for darker correlations"
   ]
  },
  {
   "cell_type": "markdown",
   "metadata": {
    "collapsed": true
   },
   "source": [
    "### Look at PCA to reduce to important features"
   ]
  },
  {
   "cell_type": "code",
   "execution_count": 18,
   "metadata": {
    "collapsed": true
   },
   "outputs": [],
   "source": [
    "scaler = StandardScaler()\n",
    "scaler.fit(X)\n",
    "X_scaled = scaler.transform(X)"
   ]
  },
  {
   "cell_type": "code",
   "execution_count": 19,
   "metadata": {},
   "outputs": [
    {
     "name": "stdout",
     "output_type": "stream",
     "text": [
      "Original shape: (2835, 36)\n",
      "Reduced shape: (2835, 2)\n"
     ]
    }
   ],
   "source": [
    "pca = PCA(n_components=2)\n",
    "reduced = pca.fit_transform(X_scaled)\n",
    "\n",
    "#X_pca = pca.transform(X_scaled)\n",
    "print(\"Original shape: {}\".format(str(X_scaled.shape)))\n",
    "print(\"Reduced shape: {}\".format(str(reduced.shape)))"
   ]
  },
  {
   "cell_type": "code",
   "execution_count": 20,
   "metadata": {},
   "outputs": [
    {
     "data": {
      "text/plain": [
       "Text(0,0.5,u'Principal components')"
      ]
     },
     "execution_count": 20,
     "metadata": {},
     "output_type": "execute_result"
    },
    {
     "data": {
      "image/png": "[encoded data removed]",
      "text/plain": [
       "<matplotlib.figure.Figure at 0x1a11cc2710>"
      ]
     },
     "metadata": {},
     "output_type": "display_data"
    }
   ],
   "source": [
    "# Use plt.matshow to display colorful matrix of pca.components_\n",
    "\n",
    "plt.matshow(pca.components_, cmap='coolwarm')\n",
    "plt.yticks([0, 1,], ['Comp1', 'Comp2'] )\n",
    "plt.colorbar()\n",
    "plt.xticks(range(len(X.columns)), X.columns, rotation=43, ha='left')\n",
    "plt.xlabel(\"Features\")\n",
    "plt.ylabel(\"Principal components\")"
   ]
  },
  {
   "cell_type": "markdown",
   "metadata": {},
   "source": [
    "### Check scores:"
   ]
  },
  {
   "cell_type": "code",
   "execution_count": 21,
   "metadata": {
    "collapsed": true
   },
   "outputs": [],
   "source": [
    "# Recall:\n",
    "# y = teams_num['WSWin'].values"
   ]
  },
  {
   "cell_type": "code",
   "execution_count": 22,
   "metadata": {},
   "outputs": [
    {
     "name": "stdout",
     "output_type": "stream",
     "text": [
      "[0.95774648 0.95774648 0.95774648 0.95774648 0.95774648 0.95774648\n",
      " 0.95774648 0.96113074 0.96099291 0.96099291]\n",
      "0.9587341909764984\n"
     ]
    }
   ],
   "source": [
    "# Linear Regression on First Component:\n",
    "\n",
    "#pca_linreg = LinearRegression()\n",
    "pca_logreg = LogisticRegression()\n",
    "pca_scores = cross_val_score(pca_logreg, reduced[:,0:1], y, cv=10)\n",
    "print pca_scores\n",
    "print np.mean(pca_scores)"
   ]
  },
  {
   "cell_type": "code",
   "execution_count": 23,
   "metadata": {},
   "outputs": [
    {
     "name": "stdout",
     "output_type": "stream",
     "text": [
      "[0.95774648 0.95774648 0.95774648 0.95774648 0.95774648 0.95774648\n",
      " 0.95774648 0.96113074 0.96099291 0.96099291]\n",
      "0.9587341909764984\n"
     ]
    }
   ],
   "source": [
    "# Linear Regression on First 3 Principle Components:\n",
    "\n",
    "#pca_linreg = LinearRegression()\n",
    "pca_logreg = LogisticRegression()\n",
    "pca_scores = cross_val_score(pca_logreg, reduced[:,0:3], y, cv=10)\n",
    "print pca_scores\n",
    "print np.mean(pca_scores)"
   ]
  },
  {
   "cell_type": "markdown",
   "metadata": {},
   "source": [
    "Scores should be close..."
   ]
  },
  {
   "cell_type": "code",
   "execution_count": 24,
   "metadata": {},
   "outputs": [
    {
     "data": {
      "text/plain": [
       "array([[ 3.54678983e-05,  1.06464155e-05,  1.44787611e-05,\n",
       "         4.72866132e-05,  3.54660857e-04,  9.62647382e-05,\n",
       "         3.61792566e-05, -1.16322776e-05,  4.83569581e-05,\n",
       "         6.39620424e-05,  2.46509896e-04, -7.99585725e-06,\n",
       "         1.12601530e-05,  1.27573181e-05,  1.01668511e-05,\n",
       "         2.15558059e-05,  6.83065385e-05,  1.87337141e-07,\n",
       "        -2.93315568e-05,  6.36353394e-07,  1.35301693e-05,\n",
       "         2.99385919e-04,  7.59929120e-05,  4.31047835e-05,\n",
       "         5.08797598e-05,  2.41886606e-04, -7.27686346e-05,\n",
       "         2.68726380e-05,  1.71256441e-08,  9.99999811e-01,\n",
       "         1.95086065e-07, -1.49225552e-07,  9.71594006e-10,\n",
       "         7.04822656e-09,  2.46337680e-08,  3.16819946e-08],\n",
       "       [-1.16973120e-02, -2.20889635e-02, -1.65783299e-02,\n",
       "        -7.28399699e-02, -7.14309570e-01, -1.89490875e-01,\n",
       "        -3.23474652e-02, -6.45217878e-03, -1.56003181e-02,\n",
       "        -9.13025492e-02, -1.00541954e-01, -1.66528297e-02,\n",
       "        -7.82208675e-03,  5.65628803e-04,  4.51757944e-04,\n",
       "        -8.15241548e-02, -9.69894509e-02, -1.21087184e-04,\n",
       "        -3.18671197e-03, -1.45369118e-03, -3.22689303e-03,\n",
       "        -5.93107143e-01, -1.95223601e-01, -1.81874519e-02,\n",
       "        -9.88636810e-02, -1.00098469e-01,  2.51070789e-02,\n",
       "        -2.85506879e-02, -2.15262510e-05,  5.41688591e-04,\n",
       "        -2.46205770e-04, -1.34183056e-04, -1.77861215e-06,\n",
       "        -9.83594943e-06, -9.17074444e-06, -1.90066939e-05]])"
      ]
     },
     "execution_count": 24,
     "metadata": {},
     "output_type": "execute_result"
    }
   ],
   "source": [
    "# Decomposition\n",
    "\n",
    "from sklearn import decomposition\n",
    "PCA = decomposition.PCA(n_components=2)\n",
    "PCA.fit(X)\n",
    "PCA_X = PCA.transform(X)\n",
    "PCA.components_  # resulting eigenvectors"
   ]
  },
  {
   "cell_type": "code",
   "execution_count": 25,
   "metadata": {},
   "outputs": [
    {
     "data": {
      "text/plain": [
       "array([1.95568183e+03, 1.50469841e+02, 6.74486772e+01, 6.82399295e+02,\n",
       "       5.14647337e+03, 1.34693933e+03, 2.28127690e+02, 4.69135802e+01,\n",
       "       1.02045150e+02, 4.73959083e+02, 7.12654321e+02, 1.06275838e+02,\n",
       "       3.38271605e+01, 1.00800705e+01, 7.99259259e+00, 6.82399295e+02,\n",
       "       5.71952381e+02, 3.81887831e+00, 4.99760141e+01, 9.65925926e+00,\n",
       "       2.38673721e+01, 4.02564515e+03, 1.34675168e+03, 1.02045150e+02,\n",
       "       4.74316755e+02, 7.37241623e+02, 1.85365432e+02, 1.24556614e+02,\n",
       "       9.65447266e-01, 1.22361029e+06, 1.00197531e+02, 1.00223280e+02,\n",
       "       2.61383305e-01, 3.22820532e-01, 3.80982593e-01, 7.03803126e-01])"
      ]
     },
     "execution_count": 25,
     "metadata": {},
     "output_type": "execute_result"
    }
   ],
   "source": [
    "PCA.mean_"
   ]
  },
  {
   "cell_type": "code",
   "execution_count": 26,
   "metadata": {},
   "outputs": [
    {
     "data": {
      "text/plain": [
       "array([[-545287.68626425,  483604.15001192],\n",
       "       [  -3141.02060125,   -1533.18906472],\n",
       "       [ -44535.05264924,   35577.4393979 ],\n",
       "       [ -24988.4058063 ,   17146.00175441],\n",
       "       [ -60425.17853894,   48998.88686113],\n",
       "       [-113812.68078949,   96982.71041603],\n",
       "       [ -73968.78017723,   61518.54266107],\n",
       "       [-114914.13048519,   97895.68514586],\n",
       "       [-140593.28616615,  121189.2358723 ],\n",
       "       [-488562.57142958,  432867.60304576]])"
      ]
     },
     "execution_count": 26,
     "metadata": {},
     "output_type": "execute_result"
    }
   ],
   "source": [
    "np.dot(X_train - pca.mean_, pca.components_.T)[:10]"
   ]
  },
  {
   "cell_type": "code",
   "execution_count": 27,
   "metadata": {
    "collapsed": true
   },
   "outputs": [],
   "source": [
    "def model_it(X_train, X_test, y_train, y_test):\n",
    "    from sklearn.naive_bayes import GaussianNB\n",
    "    GNB = GaussianNB()\n",
    "    GNB.fit(X_train,y_train)\n",
    "    print(GNB.score(X_test,y_test))\n",
    "\n",
    "    # Native Bayes classifier, function to do it"
   ]
  },
  {
   "cell_type": "code",
   "execution_count": 28,
   "metadata": {},
   "outputs": [
    {
     "name": "stdout",
     "output_type": "stream",
     "text": [
      "0.7411847672778561\n"
     ]
    }
   ],
   "source": [
    "model_it(X_train, X_test, y_train, y_test)"
   ]
  },
  {
   "cell_type": "code",
   "execution_count": 29,
   "metadata": {
    "collapsed": true
   },
   "outputs": [],
   "source": [
    "# Instantiate our Principal Componenter\n",
    "pca = decomposition.PCA(n_components=2) # 2 components.\n",
    "pca.fit(X_train) # fitting out PC using the train data\n",
    "PCA_X_train = pca.transform(X_train) #transforming x_train\n",
    "PCA_X_test = pca.transform(X_test)   #transforming x_test"
   ]
  },
  {
   "cell_type": "code",
   "execution_count": 30,
   "metadata": {},
   "outputs": [
    {
     "name": "stdout",
     "output_type": "stream",
     "text": [
      "0.9668547249647391\n"
     ]
    }
   ],
   "source": [
    "model_it(PCA_X_train, PCA_X_test, y_train, y_test)"
   ]
  },
  {
   "cell_type": "code",
   "execution_count": 31,
   "metadata": {
    "collapsed": true
   },
   "outputs": [],
   "source": [
    "PCA_1 = [x[0] for x in PCA_X]\n",
    "PCA_2 = [x[1] for x in PCA_X]\n"
   ]
  },
  {
   "cell_type": "code",
   "execution_count": 32,
   "metadata": {},
   "outputs": [
    {
     "data": {
      "image/png": "[encoded data removed]",
      "text/plain": [
       "<matplotlib.figure.Figure at 0x1a11b492d0>"
      ]
     },
     "metadata": {},
     "output_type": "display_data"
    }
   ],
   "source": [
    "plt.scatter(PCA_1, PCA_2)\n",
    "plt.show()  # resulting eigenvectors"
   ]
  },
  {
   "cell_type": "code",
   "execution_count": null,
   "metadata": {
    "collapsed": true
   },
   "outputs": [],
   "source": []
  },
  {
   "cell_type": "code",
   "execution_count": 33,
   "metadata": {
    "collapsed": true
   },
   "outputs": [],
   "source": [
    "new_reduced = pd.DataFrame(reduced)"
   ]
  },
  {
   "cell_type": "code",
   "execution_count": 34,
   "metadata": {
    "collapsed": true
   },
   "outputs": [],
   "source": [
    "# Pickle when ready\n",
    "teams_num.to_pickle('data/teams_num.p')\n",
    "new_reduced.to_pickle('data/new_reduced.p')"
   ]
  },
  {
   "cell_type": "code",
   "execution_count": null,
   "metadata": {
    "collapsed": true
   },
   "outputs": [],
   "source": []
  },
  {
   "cell_type": "markdown",
   "metadata": {},
   "source": [
    "### More PCA"
   ]
  },
  {
   "cell_type": "code",
   "execution_count": 35,
   "metadata": {
    "collapsed": true
   },
   "outputs": [],
   "source": [
    "scaler = StandardScaler()\n",
    "scaler.fit(X)\n",
    "X_scaled = scaler.transform(X)"
   ]
  },
  {
   "cell_type": "code",
   "execution_count": 36,
   "metadata": {},
   "outputs": [
    {
     "data": {
      "image/png": "[encoded data removed]",
      "text/plain": [
       "<matplotlib.figure.Figure at 0x1a1202d7d0>"
      ]
     },
     "metadata": {},
     "output_type": "display_data"
    },
    {
     "name": "stdout",
     "output_type": "stream",
     "text": [
      "-2.786686280159131e-16\n"
     ]
    }
   ],
   "source": [
    "from sklearn.decomposition import PCA\n",
    "from scipy.stats import pearsonr\n",
    "\n",
    "# Create PCA instance: model\n",
    "model = PCA()\n",
    "\n",
    "# Apply the fit_transform method of model to : pca_features\n",
    "pca_features = model.fit_transform(X_scaled)\n",
    "\n",
    "# Assign 0th column of pca_features: xs\n",
    "xs = pca_features[:,0]\n",
    "\n",
    "# Assign 1st column of pca_features: ys\n",
    "ys = pca_features[:,1]\n",
    "\n",
    "# Scatter plot xs vs ys\n",
    "plt.scatter(xs, ys)\n",
    "plt.axis('equal')\n",
    "plt.show()\n",
    "\n",
    "# Calculate the Pearson correlation of xs and ys\n",
    "correlation, pvalue = pearsonr(xs, ys)\n",
    "\n",
    "# Display the correlation\n",
    "print(correlation)"
   ]
  },
  {
   "cell_type": "markdown",
   "metadata": {},
   "source": [
    "### Find Intrisic Dimension:"
   ]
  },
  {
   "cell_type": "code",
   "execution_count": 37,
   "metadata": {},
   "outputs": [
    {
     "data": {
      "image/png": "[encoded data removed]",
      "text/plain": [
       "<matplotlib.figure.Figure at 0x1a164ca8d0>"
      ]
     },
     "metadata": {},
     "output_type": "display_data"
    }
   ],
   "source": [
    "# Perform the necessary imports\n",
    "from sklearn.pipeline import make_pipeline\n",
    "\n",
    "# Create scaler: scaler\n",
    "scaler = StandardScaler()\n",
    "\n",
    "# Create a PCA instance: pca\n",
    "pca = PCA()\n",
    "\n",
    "# Create pipeline: pipeline\n",
    "pipeline = make_pipeline(scaler, pca)\n",
    "\n",
    "# Fit the pipeline to 'samples'\n",
    "pipeline.fit(X)\n",
    "\n",
    "# Plot the explained variances\n",
    "features = range(pca.n_components_)\n",
    "plt.bar(features, pca.explained_variance_)\n",
    "plt.xlabel('PCA feature')\n",
    "plt.ylabel('variance')\n",
    "plt.xticks(features)\n",
    "plt.show()"
   ]
  },
  {
   "cell_type": "markdown",
   "metadata": {},
   "source": [
    "### Can we cluster teams?"
   ]
  },
  {
   "cell_type": "code",
   "execution_count": 43,
   "metadata": {},
   "outputs": [
    {
     "name": "stdout",
     "output_type": "stream",
     "text": [
      "      label                           team  year\n",
      "0         0           Boston Red Stockings  1871\n",
      "1         0        Chicago White Stockings  1871\n",
      "2         0         Cleveland Forest Citys  1871\n",
      "3         0           Fort Wayne Kekiongas  1871\n",
      "4         0               New York Mutuals  1871\n",
      "5         0         Philadelphia Athletics  1871\n",
      "6         0          Rockford Forest Citys  1871\n",
      "7         0                 Troy Haymakers  1871\n",
      "8         0            Washington Olympics  1871\n",
      "19        0           Washington Nationals  1872\n",
      "18        0            Washington Olympics  1872\n",
      "17        0                 Troy Haymakers  1872\n",
      "16        0         Philadelphia Athletics  1872\n",
      "15        0               New York Mutuals  1872\n",
      "11        0             Brooklyn Atlantics  1872\n",
      "13        0         Cleveland Forest Citys  1872\n",
      "12        0           Boston Red Stockings  1872\n",
      "10        0              Brooklyn Eckfords  1872\n",
      "9         0             Baltimore Canaries  1872\n",
      "14        0          Middletown Mansfields  1872\n",
      "26        0         Philadelphia Athletics  1873\n",
      "28        0           Washington Blue Legs  1873\n",
      "27        0            Philadelphia Whites  1873\n",
      "25        0               New York Mutuals  1873\n",
      "21        0            Baltimore Marylands  1873\n",
      "23        0           Boston Red Stockings  1873\n",
      "22        0             Brooklyn Atlantics  1873\n",
      "20        0             Baltimore Canaries  1873\n",
      "24        0            Elizabeth Resolutes  1873\n",
      "36        0            Philadelphia Whites  1874\n",
      "...     ...                            ...   ...\n",
      "2821      1                Minnesota Twins  2016\n",
      "2822      1               New York Yankees  2016\n",
      "2823      1                  New York Mets  2016\n",
      "2824      1              Oakland Athletics  2016\n",
      "2825      1          Philadelphia Phillies  2016\n",
      "2832      1                  Texas Rangers  2016\n",
      "2827      1               San Diego Padres  2016\n",
      "2828      1               Seattle Mariners  2016\n",
      "2829      1           San Francisco Giants  2016\n",
      "2830      1            St. Louis Cardinals  2016\n",
      "2831      1                 Tampa Bay Rays  2016\n",
      "2820      1              Milwaukee Brewers  2016\n",
      "2826      1             Pittsburgh Pirates  2016\n",
      "2819      1                  Miami Marlins  2016\n",
      "2812      1              Cleveland Indians  2016\n",
      "2817      1  Los Angeles Angels of Anaheim  2016\n",
      "2816      1             Kansas City Royals  2016\n",
      "2815      1                 Houston Astros  2016\n",
      "2814      1                 Detroit Tigers  2016\n",
      "2813      1               Colorado Rockies  2016\n",
      "2811      1                Cincinnati Reds  2016\n",
      "2810      1                   Chicago Cubs  2016\n",
      "2809      1              Chicago White Sox  2016\n",
      "2808      1                 Boston Red Sox  2016\n",
      "2807      1              Baltimore Orioles  2016\n",
      "2806      1                 Atlanta Braves  2016\n",
      "2805      1           Arizona Diamondbacks  2016\n",
      "2833      1              Toronto Blue Jays  2016\n",
      "2818      1            Los Angeles Dodgers  2016\n",
      "2834      1           Washington Nationals  2016\n",
      "\n",
      "[2835 rows x 3 columns]\n"
     ]
    }
   ],
   "source": [
    "# Perform the necessary imports\n",
    "from sklearn.decomposition import TruncatedSVD\n",
    "from sklearn.cluster import KMeans\n",
    "from sklearn.pipeline import make_pipeline\n",
    "\n",
    "# Create a TruncatedSVD instance: svd\n",
    "svd = TruncatedSVD(n_components=15)\n",
    "\n",
    "# Create a KMeans instance: kmeans\n",
    "kmeans = KMeans(n_clusters=2)\n",
    "\n",
    "# Create a pipeline: pipeline\n",
    "pipeline = make_pipeline(svd, kmeans)\n",
    "\n",
    "# Fit the pipeline to articles\n",
    "pipeline.fit(X_scaled)\n",
    "\n",
    "# Calculate the cluster labels: labels\n",
    "labels = pipeline.predict(X_scaled)\n",
    "team_name = teams['name']\n",
    "year_ID = teams['yearID']\n",
    "\n",
    "# Create a DataFrame aligning labels and titles: df\n",
    "df = pd.DataFrame({'label': labels, 'team': team_name, 'year': year_ID})\n",
    "\n",
    "# Display df sorted by cluster label\n",
    "print(df.sort_values('year'))"
   ]
  },
  {
   "cell_type": "code",
   "execution_count": null,
   "metadata": {
    "collapsed": true
   },
   "outputs": [],
   "source": []
  }
 ],
 "metadata": {
  "kernelspec": {
   "display_name": "Python [default]",
   "language": "python",
   "name": "python2"
  },
  "language_info": {
   "codemirror_mode": {
    "name": "ipython",
    "version": 2
   },
   "file_extension": ".py",
   "mimetype": "text/x-python",
   "name": "python",
   "nbconvert_exporter": "python",
   "pygments_lexer": "ipython2",
   "version": "2.7.14"
  }
 },
 "nbformat": 4,
 "nbformat_minor": 2
}
